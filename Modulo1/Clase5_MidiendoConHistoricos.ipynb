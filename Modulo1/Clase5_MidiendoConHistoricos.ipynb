{
 "cells": [
  {
   "cell_type": "markdown",
   "metadata": {},
   "source": [
    "# Midiendo rendimiento y riesgo con datos históricos\n",
    "\n",
    "<img style=\"float: right; margin: 0px 0px 15px 15px;\" src=\"https://upload.wikimedia.org/wikipedia/commons/7/7d/Copper_Price_History_USD.png\" width=\"600px\" height=\"400px\" />\n",
    "\n",
    "> Ya sabemos que podemos caracterizar la distribución de rendimientos de un activo mediante una medida de tendencia central (media: rendimiento esperado) y una medida de dispersión (desviación estándar: volatilidad). \n",
    "\n",
    "> En la clase pasada vimos como obtener reportes históricos de precios de activos. ¿Cómo usamos estos históricos para medir el rendimiento esperado y la volatilidad de los rendimientos?"
   ]
  },
  {
   "cell_type": "markdown",
   "metadata": {},
   "source": [
    "*Objetivos:*\n",
    "- Calcular los rendimientos a partir de históricos de precios.\n",
    "- Estimar rendimiento esperado y riesgo a partir de históricos de rendimientos.\n",
    "- Anualizar rendimiento y volatilidad cuando los datos están en una base de tiempo menor.\n",
    "- Verificar la relación entre rendimiento y riesgo a través de datos reales.\n",
    "\n",
    "**Referencias:**\n",
    "- http://pandas.pydata.org/\n",
    "- https://pandas-datareader.readthedocs.io/en/latest/\n",
    "- Notas del curso \"Portfolio Selection and Risk Management\", Rice University, disponible en Coursera.\n",
    "___"
   ]
  },
  {
   "cell_type": "markdown",
   "metadata": {},
   "source": [
    "## 1. Cálculo de los rendimientos\n",
    "\n",
    "Muy bien, ya entonces sabemos descargar históricos de precios..."
   ]
  },
  {
   "cell_type": "markdown",
   "metadata": {},
   "source": [
    "**Ejemplo:** trabajaremos esta clase con activos que se encuentran en el top-10 del índice S&P500. Descargar precios ajustados en el cierre de Microsoft (MSFT), Apple (AAPL), Amazon (AMZN), Facebook (FB) y Alphabet Inc. (GOOGL) desde el primero de enero del 2015 hasta hoy."
   ]
  },
  {
   "cell_type": "code",
   "execution_count": 1,
   "metadata": {},
   "outputs": [
    {
     "name": "stderr",
     "output_type": "stream",
     "text": [
      "/home/intern/anaconda3/lib/python3.7/site-packages/pandas_datareader/compat/__init__.py:7: FutureWarning: pandas.util.testing is deprecated. Use the functions in the public API at pandas.testing instead.\n",
      "  from pandas.util.testing import assert_frame_equal\n"
     ]
    }
   ],
   "source": [
    "# Importar paquetes\n",
    "import pandas_datareader.data as web\n",
    "import pandas as pd\n",
    "import numpy as np\n",
    "%matplotlib inline"
   ]
  },
  {
   "cell_type": "code",
   "execution_count": 2,
   "metadata": {},
   "outputs": [],
   "source": [
    "# Función para descargar precios de cierre ajustados:\n",
    "def get_adj_closes(tickers, start_date=None, end_date=None):\n",
    "    # Fecha inicio por defecto (start_date='2010-01-01') y fecha fin por defecto (end_date=today)\n",
    "    # Descargamos DataFrame con todos los datos\n",
    "    closes = web.DataReader(name=tickers, data_source='yahoo', start=start_date, end=end_date)\n",
    "    # Solo necesitamos los precios ajustados en el cierre\n",
    "    closes = closes['Adj Close']\n",
    "    # Se ordenan los índices de manera ascendente\n",
    "    closes.sort_index(inplace=True)\n",
    "    return closes"
   ]
  },
  {
   "cell_type": "code",
   "execution_count": 3,
   "metadata": {},
   "outputs": [],
   "source": [
    "# Información\n",
    "names = ['MSFT', 'AAPL', 'AMZN', 'FB', 'GOOGL', '^GSPC']\n",
    "start_date = '2015-01-01'"
   ]
  },
  {
   "cell_type": "code",
<<<<<<< HEAD
   "execution_count": 24,
=======
   "execution_count": 4,
>>>>>>> master
   "metadata": {},
   "outputs": [
    {
     "data": {
      "text/html": [
       "<div>\n",
       "<style scoped>\n",
       "    .dataframe tbody tr th:only-of-type {\n",
       "        vertical-align: middle;\n",
       "    }\n",
       "\n",
       "    .dataframe tbody tr th {\n",
       "        vertical-align: top;\n",
       "    }\n",
       "\n",
       "    .dataframe thead th {\n",
       "        text-align: right;\n",
       "    }\n",
       "</style>\n",
       "<table border=\"1\" class=\"dataframe\">\n",
       "  <thead>\n",
       "    <tr style=\"text-align: right;\">\n",
       "      <th>Symbols</th>\n",
       "      <th>MSFT</th>\n",
       "      <th>AAPL</th>\n",
       "      <th>AMZN</th>\n",
       "      <th>FB</th>\n",
       "      <th>GOOGL</th>\n",
       "      <th>^GSPC</th>\n",
       "    </tr>\n",
       "    <tr>\n",
       "      <th>Date</th>\n",
       "      <th></th>\n",
       "      <th></th>\n",
       "      <th></th>\n",
       "      <th></th>\n",
       "      <th></th>\n",
       "      <th></th>\n",
       "    </tr>\n",
       "  </thead>\n",
       "  <tbody>\n",
       "    <tr>\n",
<<<<<<< HEAD
       "      <td>2015-01-02</td>\n",
=======
       "      <th>2015-01-02</th>\n",
>>>>>>> master
       "      <td>41.748566</td>\n",
       "      <td>99.945885</td>\n",
       "      <td>308.519989</td>\n",
       "      <td>78.449997</td>\n",
       "      <td>529.549988</td>\n",
       "      <td>2058.199951</td>\n",
       "    </tr>\n",
       "    <tr>\n",
<<<<<<< HEAD
       "      <td>2015-01-05</td>\n",
=======
       "      <th>2015-01-05</th>\n",
>>>>>>> master
       "      <td>41.364658</td>\n",
       "      <td>97.130241</td>\n",
       "      <td>302.190002</td>\n",
       "      <td>77.190002</td>\n",
       "      <td>519.460022</td>\n",
       "      <td>2020.579956</td>\n",
       "    </tr>\n",
       "    <tr>\n",
<<<<<<< HEAD
       "      <td>2015-01-06</td>\n",
=======
       "      <th>2015-01-06</th>\n",
>>>>>>> master
       "      <td>40.757530</td>\n",
       "      <td>97.139420</td>\n",
       "      <td>295.290009</td>\n",
       "      <td>76.150002</td>\n",
       "      <td>506.640015</td>\n",
       "      <td>2002.609985</td>\n",
       "    </tr>\n",
       "    <tr>\n",
<<<<<<< HEAD
       "      <td>2015-01-07</td>\n",
=======
       "      <th>2015-01-07</th>\n",
>>>>>>> master
       "      <td>41.275364</td>\n",
       "      <td>98.501518</td>\n",
       "      <td>298.420013</td>\n",
       "      <td>76.150002</td>\n",
       "      <td>505.149994</td>\n",
       "      <td>2025.900024</td>\n",
       "    </tr>\n",
       "    <tr>\n",
<<<<<<< HEAD
       "      <td>2015-01-08</td>\n",
=======
       "      <th>2015-01-08</th>\n",
>>>>>>> master
       "      <td>42.489609</td>\n",
       "      <td>102.286186</td>\n",
       "      <td>300.459991</td>\n",
       "      <td>78.180000</td>\n",
       "      <td>506.910004</td>\n",
       "      <td>2062.139893</td>\n",
       "    </tr>\n",
       "  </tbody>\n",
       "</table>\n",
       "</div>"
      ],
      "text/plain": [
       "Symbols          MSFT        AAPL        AMZN         FB       GOOGL  \\\n",
       "Date                                                                   \n",
       "2015-01-02  41.748566   99.945885  308.519989  78.449997  529.549988   \n",
       "2015-01-05  41.364658   97.130241  302.190002  77.190002  519.460022   \n",
       "2015-01-06  40.757530   97.139420  295.290009  76.150002  506.640015   \n",
       "2015-01-07  41.275364   98.501518  298.420013  76.150002  505.149994   \n",
       "2015-01-08  42.489609  102.286186  300.459991  78.180000  506.910004   \n",
       "\n",
       "Symbols           ^GSPC  \n",
       "Date                     \n",
       "2015-01-02  2058.199951  \n",
       "2015-01-05  2020.579956  \n",
       "2015-01-06  2002.609985  \n",
       "2015-01-07  2025.900024  \n",
       "2015-01-08  2062.139893  "
      ]
     },
<<<<<<< HEAD
     "execution_count": 24,
=======
     "execution_count": 4,
>>>>>>> master
     "metadata": {},
     "output_type": "execute_result"
    }
   ],
   "source": [
    "# Precios diarios\n",
<<<<<<< HEAD
    "closes = get_adj_closes(tickers=names, start_date=start_date)\n",
=======
    "closes = get_adj_closes(tickers=names,\n",
    "                        start_date=start_date\n",
    "                       )\n",
>>>>>>> master
    "closes.head()"
   ]
  },
  {
   "cell_type": "code",
<<<<<<< HEAD
   "execution_count": 25,
=======
   "execution_count": 5,
>>>>>>> master
   "metadata": {},
   "outputs": [
    {
     "data": {
      "text/plain": [
<<<<<<< HEAD
       "<matplotlib.axes._subplots.AxesSubplot at 0x1bc9d349fc8>"
      ]
     },
     "execution_count": 25,
=======
       "<matplotlib.axes._subplots.AxesSubplot at 0x7f6b5a000b00>"
      ]
     },
     "execution_count": 5,
>>>>>>> master
     "metadata": {},
     "output_type": "execute_result"
    },
    {
     "data": {
<<<<<<< HEAD
      "image/png": "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\n",
=======
      "image/png": "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\n",
>>>>>>> master
      "text/plain": [
       "<Figure size 432x288 with 1 Axes>"
      ]
     },
     "metadata": {
      "needs_background": "light"
     },
     "output_type": "display_data"
    }
   ],
   "source": [
    "# Gráfico de histórico de precios diarios\n",
<<<<<<< HEAD
    "closes[['MSFT', 'AAPL', 'AMZN', 'FB', 'GOOGL', '^GSPC']].plot()"
=======
    "closes[['MSFT', 'AAPL', 'AMZN', 'FB', 'GOOGL']].plot()"
>>>>>>> master
   ]
  },
  {
   "cell_type": "markdown",
   "metadata": {},
   "source": [
    "### 1.1. Rendimientos porcentuales"
   ]
  },
  {
   "cell_type": "markdown",
   "metadata": {},
   "source": [
    "Muy bien, pero para el análisis no trabajamos con los precios sino con los rendimientos... **¿porqué?**"
   ]
  },
  {
   "cell_type": "markdown",
   "metadata": {},
   "source": [
    "Para una sucesión de precios $\\{S_t\\}_{t=0}^{n}$, el rendimiento simple $R_t$ se define como el el cambio porcentual\n",
    "$$\n",
    "R_t=\\frac{S_t-S_{t-1}}{S_{t-1}}\n",
    "$$\n",
    "para $t=1,\\ldots,n$."
   ]
  },
  {
   "cell_type": "markdown",
   "metadata": {},
   "source": [
    "*¡Cuidado!* los rendimientos son de acuerdo a la base de tiempo en que se reportan los precios. Por ejemplo: \n",
    "- si los precios se reportan en una base diaria, los rendimientos también son diarios;\n",
    "- si los precios se reportan en una base mensual, los rendimientos también son mensuales."
   ]
  },
  {
   "cell_type": "code",
<<<<<<< HEAD
   "execution_count": 26,
=======
   "execution_count": 6,
>>>>>>> master
   "metadata": {
    "scrolled": true
   },
   "outputs": [
    {
     "name": "stdout",
     "output_type": "stream",
     "text": [
      "Help on method shift in module pandas.core.frame:\n",
      "\n",
<<<<<<< HEAD
      "shift(periods=1, freq=None, axis=0, fill_value=None) method of pandas.core.frame.DataFrame instance\n",
=======
      "shift(periods=1, freq=None, axis=0, fill_value=None) -> 'DataFrame' method of pandas.core.frame.DataFrame instance\n",
>>>>>>> master
      "    Shift index by desired number of periods with an optional time `freq`.\n",
      "    \n",
      "    When `freq` is not passed, shift the index without realigning the data.\n",
      "    If `freq` is passed (in this case, the index must be date or datetime,\n",
      "    or it will raise a `NotImplementedError`), the index will be\n",
      "    increased using the periods and the `freq`.\n",
      "    \n",
      "    Parameters\n",
      "    ----------\n",
      "    periods : int\n",
      "        Number of periods to shift. Can be positive or negative.\n",
      "    freq : DateOffset, tseries.offsets, timedelta, or str, optional\n",
      "        Offset to use from the tseries module or time rule (e.g. 'EOM').\n",
      "        If `freq` is specified then the index values are shifted but the\n",
      "        data is not realigned. That is, use `freq` if you would like to\n",
      "        extend the index when shifting and preserve the original data.\n",
      "    axis : {0 or 'index', 1 or 'columns', None}, default None\n",
      "        Shift direction.\n",
      "    fill_value : object, optional\n",
      "        The scalar value to use for newly introduced missing values.\n",
      "        the default depends on the dtype of `self`.\n",
      "        For numeric data, ``np.nan`` is used.\n",
      "        For datetime, timedelta, or period data, etc. :attr:`NaT` is used.\n",
      "        For extension dtypes, ``self.dtype.na_value`` is used.\n",
      "    \n",
      "        .. versionchanged:: 0.24.0\n",
      "    \n",
      "    Returns\n",
      "    -------\n",
      "    DataFrame\n",
      "        Copy of input object, shifted.\n",
      "    \n",
      "    See Also\n",
      "    --------\n",
      "    Index.shift : Shift values of Index.\n",
      "    DatetimeIndex.shift : Shift values of DatetimeIndex.\n",
      "    PeriodIndex.shift : Shift values of PeriodIndex.\n",
      "    tshift : Shift the time index, using the index's frequency if\n",
      "        available.\n",
      "    \n",
      "    Examples\n",
      "    --------\n",
      "    >>> df = pd.DataFrame({'Col1': [10, 20, 15, 30, 45],\n",
      "    ...                    'Col2': [13, 23, 18, 33, 48],\n",
      "    ...                    'Col3': [17, 27, 22, 37, 52]})\n",
      "    \n",
      "    >>> df.shift(periods=3)\n",
      "       Col1  Col2  Col3\n",
      "    0   NaN   NaN   NaN\n",
      "    1   NaN   NaN   NaN\n",
      "    2   NaN   NaN   NaN\n",
      "    3  10.0  13.0  17.0\n",
      "    4  20.0  23.0  27.0\n",
      "    \n",
      "    >>> df.shift(periods=1, axis='columns')\n",
      "       Col1  Col2  Col3\n",
      "    0   NaN  10.0  13.0\n",
      "    1   NaN  20.0  23.0\n",
      "    2   NaN  15.0  18.0\n",
      "    3   NaN  30.0  33.0\n",
      "    4   NaN  45.0  48.0\n",
      "    \n",
      "    >>> df.shift(periods=3, fill_value=0)\n",
      "       Col1  Col2  Col3\n",
      "    0     0     0     0\n",
      "    1     0     0     0\n",
      "    2     0     0     0\n",
      "    3    10    13    17\n",
      "    4    20    23    27\n",
      "\n"
     ]
    }
   ],
   "source": [
    "# Método shift() de un DataFrame...\n",
    "help(closes.shift)"
   ]
  },
  {
   "cell_type": "code",
<<<<<<< HEAD
   "execution_count": 30,
=======
   "execution_count": 7,
>>>>>>> master
   "metadata": {
    "scrolled": true
   },
   "outputs": [
    {
     "data": {
      "text/html": [
       "<div>\n",
       "<style scoped>\n",
       "    .dataframe tbody tr th:only-of-type {\n",
       "        vertical-align: middle;\n",
       "    }\n",
       "\n",
       "    .dataframe tbody tr th {\n",
       "        vertical-align: top;\n",
       "    }\n",
       "\n",
       "    .dataframe thead th {\n",
       "        text-align: right;\n",
       "    }\n",
       "</style>\n",
       "<table border=\"1\" class=\"dataframe\">\n",
       "  <thead>\n",
       "    <tr style=\"text-align: right;\">\n",
       "      <th>Symbols</th>\n",
       "      <th>MSFT</th>\n",
       "      <th>AAPL</th>\n",
       "      <th>AMZN</th>\n",
       "      <th>FB</th>\n",
       "      <th>GOOGL</th>\n",
       "      <th>^GSPC</th>\n",
       "    </tr>\n",
       "    <tr>\n",
       "      <th>Date</th>\n",
       "      <th></th>\n",
       "      <th></th>\n",
       "      <th></th>\n",
       "      <th></th>\n",
       "      <th></th>\n",
       "      <th></th>\n",
       "    </tr>\n",
       "  </thead>\n",
       "  <tbody>\n",
       "    <tr>\n",
<<<<<<< HEAD
       "      <td>2015-01-02</td>\n",
=======
       "      <th>2015-01-02</th>\n",
>>>>>>> master
       "      <td>41.748566</td>\n",
       "      <td>99.945885</td>\n",
       "      <td>308.519989</td>\n",
       "      <td>78.449997</td>\n",
       "      <td>529.549988</td>\n",
       "      <td>2058.199951</td>\n",
       "    </tr>\n",
       "    <tr>\n",
<<<<<<< HEAD
       "      <td>2015-01-05</td>\n",
=======
       "      <th>2015-01-05</th>\n",
>>>>>>> master
       "      <td>41.364658</td>\n",
       "      <td>97.130241</td>\n",
       "      <td>302.190002</td>\n",
       "      <td>77.190002</td>\n",
       "      <td>519.460022</td>\n",
       "      <td>2020.579956</td>\n",
       "    </tr>\n",
       "    <tr>\n",
<<<<<<< HEAD
       "      <td>2015-01-06</td>\n",
=======
       "      <th>2015-01-06</th>\n",
>>>>>>> master
       "      <td>40.757530</td>\n",
       "      <td>97.139420</td>\n",
       "      <td>295.290009</td>\n",
       "      <td>76.150002</td>\n",
       "      <td>506.640015</td>\n",
       "      <td>2002.609985</td>\n",
       "    </tr>\n",
       "  </tbody>\n",
       "</table>\n",
       "</div>"
      ],
      "text/plain": [
       "Symbols          MSFT       AAPL        AMZN         FB       GOOGL  \\\n",
       "Date                                                                  \n",
       "2015-01-02  41.748566  99.945885  308.519989  78.449997  529.549988   \n",
       "2015-01-05  41.364658  97.130241  302.190002  77.190002  519.460022   \n",
       "2015-01-06  40.757530  97.139420  295.290009  76.150002  506.640015   \n",
       "\n",
       "Symbols           ^GSPC  \n",
       "Date                     \n",
       "2015-01-02  2058.199951  \n",
       "2015-01-05  2020.579956  \n",
       "2015-01-06  2002.609985  "
      ]
     },
<<<<<<< HEAD
     "execution_count": 30,
=======
     "execution_count": 7,
>>>>>>> master
     "metadata": {},
     "output_type": "execute_result"
    }
   ],
   "source": [
    "closes.head(3)"
   ]
  },
  {
   "cell_type": "code",
<<<<<<< HEAD
   "execution_count": 31,
=======
   "execution_count": 8,
>>>>>>> master
   "metadata": {},
   "outputs": [
    {
     "data": {
      "text/html": [
       "<div>\n",
       "<style scoped>\n",
       "    .dataframe tbody tr th:only-of-type {\n",
       "        vertical-align: middle;\n",
       "    }\n",
       "\n",
       "    .dataframe tbody tr th {\n",
       "        vertical-align: top;\n",
       "    }\n",
       "\n",
       "    .dataframe thead th {\n",
       "        text-align: right;\n",
       "    }\n",
       "</style>\n",
       "<table border=\"1\" class=\"dataframe\">\n",
       "  <thead>\n",
       "    <tr style=\"text-align: right;\">\n",
       "      <th>Symbols</th>\n",
       "      <th>MSFT</th>\n",
       "      <th>AAPL</th>\n",
       "      <th>AMZN</th>\n",
       "      <th>FB</th>\n",
       "      <th>GOOGL</th>\n",
       "      <th>^GSPC</th>\n",
       "    </tr>\n",
       "    <tr>\n",
       "      <th>Date</th>\n",
       "      <th></th>\n",
       "      <th></th>\n",
       "      <th></th>\n",
       "      <th></th>\n",
       "      <th></th>\n",
       "      <th></th>\n",
       "    </tr>\n",
       "  </thead>\n",
       "  <tbody>\n",
       "    <tr>\n",
<<<<<<< HEAD
       "      <td>2015-01-02</td>\n",
=======
       "      <th>2015-01-02</th>\n",
>>>>>>> master
       "      <td>NaN</td>\n",
       "      <td>NaN</td>\n",
       "      <td>NaN</td>\n",
       "      <td>NaN</td>\n",
       "      <td>NaN</td>\n",
       "      <td>NaN</td>\n",
       "    </tr>\n",
       "    <tr>\n",
<<<<<<< HEAD
       "      <td>2015-01-05</td>\n",
=======
       "      <th>2015-01-05</th>\n",
>>>>>>> master
       "      <td>41.748566</td>\n",
       "      <td>99.945885</td>\n",
       "      <td>308.519989</td>\n",
       "      <td>78.449997</td>\n",
       "      <td>529.549988</td>\n",
       "      <td>2058.199951</td>\n",
       "    </tr>\n",
       "    <tr>\n",
<<<<<<< HEAD
       "      <td>2015-01-06</td>\n",
=======
       "      <th>2015-01-06</th>\n",
>>>>>>> master
       "      <td>41.364658</td>\n",
       "      <td>97.130241</td>\n",
       "      <td>302.190002</td>\n",
       "      <td>77.190002</td>\n",
       "      <td>519.460022</td>\n",
       "      <td>2020.579956</td>\n",
       "    </tr>\n",
       "  </tbody>\n",
       "</table>\n",
       "</div>"
      ],
      "text/plain": [
       "Symbols          MSFT       AAPL        AMZN         FB       GOOGL  \\\n",
       "Date                                                                  \n",
       "2015-01-02        NaN        NaN         NaN        NaN         NaN   \n",
       "2015-01-05  41.748566  99.945885  308.519989  78.449997  529.549988   \n",
       "2015-01-06  41.364658  97.130241  302.190002  77.190002  519.460022   \n",
       "\n",
       "Symbols           ^GSPC  \n",
       "Date                     \n",
       "2015-01-02          NaN  \n",
       "2015-01-05  2058.199951  \n",
       "2015-01-06  2020.579956  "
      ]
     },
<<<<<<< HEAD
     "execution_count": 31,
=======
     "execution_count": 8,
>>>>>>> master
     "metadata": {},
     "output_type": "execute_result"
    }
   ],
   "source": [
    "closes.shift().head(3)"
   ]
  },
  {
   "cell_type": "code",
<<<<<<< HEAD
   "execution_count": 35,
=======
   "execution_count": 10,
>>>>>>> master
   "metadata": {},
   "outputs": [
    {
     "data": {
      "text/html": [
       "<div>\n",
       "<style scoped>\n",
       "    .dataframe tbody tr th:only-of-type {\n",
       "        vertical-align: middle;\n",
       "    }\n",
       "\n",
       "    .dataframe tbody tr th {\n",
       "        vertical-align: top;\n",
       "    }\n",
       "\n",
       "    .dataframe thead th {\n",
       "        text-align: right;\n",
       "    }\n",
       "</style>\n",
       "<table border=\"1\" class=\"dataframe\">\n",
       "  <thead>\n",
       "    <tr style=\"text-align: right;\">\n",
       "      <th>Symbols</th>\n",
       "      <th>MSFT</th>\n",
       "      <th>AAPL</th>\n",
       "      <th>AMZN</th>\n",
       "      <th>FB</th>\n",
       "      <th>GOOGL</th>\n",
       "      <th>^GSPC</th>\n",
       "    </tr>\n",
       "    <tr>\n",
       "      <th>Date</th>\n",
       "      <th></th>\n",
       "      <th></th>\n",
       "      <th></th>\n",
       "      <th></th>\n",
       "      <th></th>\n",
       "      <th></th>\n",
       "    </tr>\n",
       "  </thead>\n",
       "  <tbody>\n",
       "    <tr>\n",
<<<<<<< HEAD
       "      <td>2015-01-05</td>\n",
=======
       "      <th>2015-01-05</th>\n",
>>>>>>> master
       "      <td>-0.009196</td>\n",
       "      <td>-0.028172</td>\n",
       "      <td>-0.020517</td>\n",
       "      <td>-0.016061</td>\n",
       "      <td>-0.019054</td>\n",
       "      <td>-0.018278</td>\n",
       "    </tr>\n",
       "    <tr>\n",
<<<<<<< HEAD
       "      <td>2015-01-06</td>\n",
=======
       "      <th>2015-01-06</th>\n",
>>>>>>> master
       "      <td>-0.014677</td>\n",
       "      <td>0.000094</td>\n",
       "      <td>-0.022833</td>\n",
       "      <td>-0.013473</td>\n",
       "      <td>-0.024679</td>\n",
       "      <td>-0.008893</td>\n",
       "    </tr>\n",
       "    <tr>\n",
<<<<<<< HEAD
       "      <td>2015-01-07</td>\n",
=======
       "      <th>2015-01-07</th>\n",
>>>>>>> master
       "      <td>0.012705</td>\n",
       "      <td>0.014022</td>\n",
       "      <td>0.010600</td>\n",
       "      <td>0.000000</td>\n",
       "      <td>-0.002941</td>\n",
       "      <td>0.011630</td>\n",
       "    </tr>\n",
       "    <tr>\n",
<<<<<<< HEAD
       "      <td>2015-01-08</td>\n",
=======
       "      <th>2015-01-08</th>\n",
>>>>>>> master
       "      <td>0.029418</td>\n",
       "      <td>0.038422</td>\n",
       "      <td>0.006836</td>\n",
       "      <td>0.026658</td>\n",
       "      <td>0.003484</td>\n",
       "      <td>0.017888</td>\n",
       "    </tr>\n",
<<<<<<< HEAD
=======
       "    <tr>\n",
       "      <th>2015-01-09</th>\n",
       "      <td>-0.008405</td>\n",
       "      <td>0.001072</td>\n",
       "      <td>-0.011749</td>\n",
       "      <td>-0.005628</td>\n",
       "      <td>-0.012211</td>\n",
       "      <td>-0.008404</td>\n",
       "    </tr>\n",
>>>>>>> master
       "  </tbody>\n",
       "</table>\n",
       "</div>"
      ],
      "text/plain": [
       "Symbols         MSFT      AAPL      AMZN        FB     GOOGL     ^GSPC\n",
       "Date                                                                  \n",
       "2015-01-05 -0.009196 -0.028172 -0.020517 -0.016061 -0.019054 -0.018278\n",
       "2015-01-06 -0.014677  0.000094 -0.022833 -0.013473 -0.024679 -0.008893\n",
       "2015-01-07  0.012705  0.014022  0.010600  0.000000 -0.002941  0.011630\n",
<<<<<<< HEAD
       "2015-01-08  0.029418  0.038422  0.006836  0.026658  0.003484  0.017888"
      ]
     },
     "execution_count": 35,
=======
       "2015-01-08  0.029418  0.038422  0.006836  0.026658  0.003484  0.017888\n",
       "2015-01-09 -0.008405  0.001072 -0.011749 -0.005628 -0.012211 -0.008404"
      ]
     },
     "execution_count": 10,
>>>>>>> master
     "metadata": {},
     "output_type": "execute_result"
    }
   ],
   "source": [
    "# Calcular los rendimientos\n",
<<<<<<< HEAD
    "ret = (closes-closes.shift())/closes.shift()\n",
    "ret.head().dropna()"
=======
    "St = closes\n",
    "St_1 = closes.shift()\n",
    "ret = ((St - St_1) / St_1).dropna()\n",
    "ret.head()"
>>>>>>> master
   ]
  },
  {
   "cell_type": "code",
<<<<<<< HEAD
   "execution_count": 36,
=======
   "execution_count": 11,
>>>>>>> master
   "metadata": {},
   "outputs": [
    {
     "name": "stdout",
     "output_type": "stream",
     "text": [
      "Help on method pct_change in module pandas.core.generic:\n",
      "\n",
<<<<<<< HEAD
      "pct_change(periods=1, fill_method='pad', limit=None, freq=None, **kwargs) method of pandas.core.frame.DataFrame instance\n",
=======
      "pct_change(periods=1, fill_method='pad', limit=None, freq=None, **kwargs) -> ~FrameOrSeries method of pandas.core.frame.DataFrame instance\n",
>>>>>>> master
      "    Percentage change between the current and a prior element.\n",
      "    \n",
      "    Computes the percentage change from the immediately previous row by\n",
      "    default. This is useful in comparing the percentage of change in a time\n",
      "    series of elements.\n",
      "    \n",
      "    Parameters\n",
      "    ----------\n",
      "    periods : int, default 1\n",
      "        Periods to shift for forming percent change.\n",
      "    fill_method : str, default 'pad'\n",
      "        How to handle NAs before computing percent changes.\n",
      "    limit : int, default None\n",
      "        The number of consecutive NAs to fill before stopping.\n",
<<<<<<< HEAD
      "    freq : DateOffset, timedelta, or offset alias string, optional\n",
=======
      "    freq : DateOffset, timedelta, or str, optional\n",
>>>>>>> master
      "        Increment to use from time series API (e.g. 'M' or BDay()).\n",
      "    **kwargs\n",
      "        Additional keyword arguments are passed into\n",
      "        `DataFrame.shift` or `Series.shift`.\n",
      "    \n",
      "    Returns\n",
      "    -------\n",
      "    chg : Series or DataFrame\n",
      "        The same type as the calling object.\n",
      "    \n",
      "    See Also\n",
      "    --------\n",
      "    Series.diff : Compute the difference of two elements in a Series.\n",
      "    DataFrame.diff : Compute the difference of two elements in a DataFrame.\n",
      "    Series.shift : Shift the index by some number of periods.\n",
      "    DataFrame.shift : Shift the index by some number of periods.\n",
      "    \n",
      "    Examples\n",
      "    --------\n",
      "    **Series**\n",
      "    \n",
      "    >>> s = pd.Series([90, 91, 85])\n",
      "    >>> s\n",
      "    0    90\n",
      "    1    91\n",
      "    2    85\n",
      "    dtype: int64\n",
      "    \n",
      "    >>> s.pct_change()\n",
      "    0         NaN\n",
      "    1    0.011111\n",
      "    2   -0.065934\n",
      "    dtype: float64\n",
      "    \n",
      "    >>> s.pct_change(periods=2)\n",
      "    0         NaN\n",
      "    1         NaN\n",
      "    2   -0.055556\n",
      "    dtype: float64\n",
      "    \n",
      "    See the percentage change in a Series where filling NAs with last\n",
      "    valid observation forward to next valid.\n",
      "    \n",
      "    >>> s = pd.Series([90, 91, None, 85])\n",
      "    >>> s\n",
      "    0    90.0\n",
      "    1    91.0\n",
      "    2     NaN\n",
      "    3    85.0\n",
      "    dtype: float64\n",
      "    \n",
      "    >>> s.pct_change(fill_method='ffill')\n",
      "    0         NaN\n",
      "    1    0.011111\n",
      "    2    0.000000\n",
      "    3   -0.065934\n",
      "    dtype: float64\n",
      "    \n",
      "    **DataFrame**\n",
      "    \n",
      "    Percentage change in French franc, Deutsche Mark, and Italian lira from\n",
      "    1980-01-01 to 1980-03-01.\n",
      "    \n",
      "    >>> df = pd.DataFrame({\n",
      "    ...     'FR': [4.0405, 4.0963, 4.3149],\n",
      "    ...     'GR': [1.7246, 1.7482, 1.8519],\n",
      "    ...     'IT': [804.74, 810.01, 860.13]},\n",
      "    ...     index=['1980-01-01', '1980-02-01', '1980-03-01'])\n",
      "    >>> df\n",
      "                    FR      GR      IT\n",
      "    1980-01-01  4.0405  1.7246  804.74\n",
      "    1980-02-01  4.0963  1.7482  810.01\n",
      "    1980-03-01  4.3149  1.8519  860.13\n",
      "    \n",
      "    >>> df.pct_change()\n",
      "                      FR        GR        IT\n",
      "    1980-01-01       NaN       NaN       NaN\n",
      "    1980-02-01  0.013810  0.013684  0.006549\n",
      "    1980-03-01  0.053365  0.059318  0.061876\n",
      "    \n",
      "    Percentage of change in GOOG and APPL stock volume. Shows computing\n",
      "    the percentage change between columns.\n",
      "    \n",
      "    >>> df = pd.DataFrame({\n",
      "    ...     '2016': [1769950, 30586265],\n",
      "    ...     '2015': [1500923, 40912316],\n",
      "    ...     '2014': [1371819, 41403351]},\n",
      "    ...     index=['GOOG', 'APPL'])\n",
      "    >>> df\n",
      "              2016      2015      2014\n",
      "    GOOG   1769950   1500923   1371819\n",
      "    APPL  30586265  40912316  41403351\n",
      "    \n",
      "    >>> df.pct_change(axis='columns')\n",
      "          2016      2015      2014\n",
      "    GOOG   NaN -0.151997 -0.086016\n",
      "    APPL   NaN  0.337604  0.012002\n",
      "\n"
     ]
    }
   ],
   "source": [
<<<<<<< HEAD
    "# Otra forma (más fácil)\n",
=======
>>>>>>> master
    "help(closes.pct_change)"
   ]
  },
  {
   "cell_type": "code",
<<<<<<< HEAD
   "execution_count": 37,
=======
   "execution_count": 14,
>>>>>>> master
   "metadata": {},
   "outputs": [
    {
     "data": {
      "text/html": [
       "<div>\n",
       "<style scoped>\n",
       "    .dataframe tbody tr th:only-of-type {\n",
       "        vertical-align: middle;\n",
       "    }\n",
       "\n",
       "    .dataframe tbody tr th {\n",
       "        vertical-align: top;\n",
       "    }\n",
       "\n",
       "    .dataframe thead th {\n",
       "        text-align: right;\n",
       "    }\n",
       "</style>\n",
       "<table border=\"1\" class=\"dataframe\">\n",
       "  <thead>\n",
       "    <tr style=\"text-align: right;\">\n",
       "      <th>Symbols</th>\n",
       "      <th>MSFT</th>\n",
       "      <th>AAPL</th>\n",
       "      <th>AMZN</th>\n",
       "      <th>FB</th>\n",
       "      <th>GOOGL</th>\n",
       "      <th>^GSPC</th>\n",
       "    </tr>\n",
       "    <tr>\n",
       "      <th>Date</th>\n",
       "      <th></th>\n",
       "      <th></th>\n",
       "      <th></th>\n",
       "      <th></th>\n",
       "      <th></th>\n",
       "      <th></th>\n",
       "    </tr>\n",
       "  </thead>\n",
       "  <tbody>\n",
       "    <tr>\n",
<<<<<<< HEAD
       "      <td>2015-01-05</td>\n",
=======
       "      <th>2015-01-05</th>\n",
>>>>>>> master
       "      <td>-0.009196</td>\n",
       "      <td>-0.028172</td>\n",
       "      <td>-0.020517</td>\n",
       "      <td>-0.016061</td>\n",
       "      <td>-0.019054</td>\n",
       "      <td>-0.018278</td>\n",
       "    </tr>\n",
       "    <tr>\n",
<<<<<<< HEAD
       "      <td>2015-01-06</td>\n",
=======
       "      <th>2015-01-06</th>\n",
>>>>>>> master
       "      <td>-0.014677</td>\n",
       "      <td>0.000094</td>\n",
       "      <td>-0.022833</td>\n",
       "      <td>-0.013473</td>\n",
       "      <td>-0.024679</td>\n",
       "      <td>-0.008893</td>\n",
       "    </tr>\n",
       "    <tr>\n",
<<<<<<< HEAD
       "      <td>2015-01-07</td>\n",
=======
       "      <th>2015-01-07</th>\n",
>>>>>>> master
       "      <td>0.012705</td>\n",
       "      <td>0.014022</td>\n",
       "      <td>0.010600</td>\n",
       "      <td>0.000000</td>\n",
       "      <td>-0.002941</td>\n",
       "      <td>0.011630</td>\n",
       "    </tr>\n",
       "    <tr>\n",
<<<<<<< HEAD
       "      <td>2015-01-08</td>\n",
=======
       "      <th>2015-01-08</th>\n",
>>>>>>> master
       "      <td>0.029418</td>\n",
       "      <td>0.038422</td>\n",
       "      <td>0.006836</td>\n",
       "      <td>0.026658</td>\n",
       "      <td>0.003484</td>\n",
       "      <td>0.017888</td>\n",
       "    </tr>\n",
       "    <tr>\n",
<<<<<<< HEAD
       "      <td>2015-01-09</td>\n",
=======
       "      <th>2015-01-09</th>\n",
>>>>>>> master
       "      <td>-0.008405</td>\n",
       "      <td>0.001072</td>\n",
       "      <td>-0.011749</td>\n",
       "      <td>-0.005628</td>\n",
       "      <td>-0.012211</td>\n",
       "      <td>-0.008404</td>\n",
       "    </tr>\n",
<<<<<<< HEAD
       "    <tr>\n",
       "      <td>...</td>\n",
       "      <td>...</td>\n",
       "      <td>...</td>\n",
       "      <td>...</td>\n",
       "      <td>...</td>\n",
       "      <td>...</td>\n",
       "      <td>...</td>\n",
       "    </tr>\n",
       "    <tr>\n",
       "      <td>2020-05-28</td>\n",
       "      <td>-0.002255</td>\n",
       "      <td>0.000440</td>\n",
       "      <td>-0.003854</td>\n",
       "      <td>-0.016060</td>\n",
       "      <td>-0.001436</td>\n",
       "      <td>-0.002108</td>\n",
       "    </tr>\n",
       "    <tr>\n",
       "      <td>2020-05-29</td>\n",
       "      <td>0.010198</td>\n",
       "      <td>-0.000974</td>\n",
       "      <td>0.017188</td>\n",
       "      <td>-0.001641</td>\n",
       "      <td>0.010774</td>\n",
       "      <td>0.004812</td>\n",
       "    </tr>\n",
       "    <tr>\n",
       "      <td>2020-06-01</td>\n",
       "      <td>-0.002292</td>\n",
       "      <td>0.012298</td>\n",
       "      <td>0.011739</td>\n",
       "      <td>0.030299</td>\n",
       "      <td>0.000942</td>\n",
       "      <td>0.003751</td>\n",
       "    </tr>\n",
       "    <tr>\n",
       "      <td>2020-06-02</td>\n",
       "      <td>0.011377</td>\n",
       "      <td>0.004629</td>\n",
       "      <td>0.000554</td>\n",
       "      <td>0.003493</td>\n",
       "      <td>0.005185</td>\n",
       "      <td>0.008211</td>\n",
       "    </tr>\n",
       "    <tr>\n",
       "      <td>2020-06-03</td>\n",
       "      <td>0.002434</td>\n",
       "      <td>0.005505</td>\n",
       "      <td>0.002423</td>\n",
       "      <td>-0.011000</td>\n",
       "      <td>-0.002122</td>\n",
       "      <td>0.013649</td>\n",
       "    </tr>\n",
       "  </tbody>\n",
       "</table>\n",
       "<p>1363 rows × 6 columns</p>\n",
=======
       "  </tbody>\n",
       "</table>\n",
>>>>>>> master
       "</div>"
      ],
      "text/plain": [
       "Symbols         MSFT      AAPL      AMZN        FB     GOOGL     ^GSPC\n",
       "Date                                                                  \n",
       "2015-01-05 -0.009196 -0.028172 -0.020517 -0.016061 -0.019054 -0.018278\n",
       "2015-01-06 -0.014677  0.000094 -0.022833 -0.013473 -0.024679 -0.008893\n",
       "2015-01-07  0.012705  0.014022  0.010600  0.000000 -0.002941  0.011630\n",
       "2015-01-08  0.029418  0.038422  0.006836  0.026658  0.003484  0.017888\n",
<<<<<<< HEAD
       "2015-01-09 -0.008405  0.001072 -0.011749 -0.005628 -0.012211 -0.008404\n",
       "...              ...       ...       ...       ...       ...       ...\n",
       "2020-05-28 -0.002255  0.000440 -0.003854 -0.016060 -0.001436 -0.002108\n",
       "2020-05-29  0.010198 -0.000974  0.017188 -0.001641  0.010774  0.004812\n",
       "2020-06-01 -0.002292  0.012298  0.011739  0.030299  0.000942  0.003751\n",
       "2020-06-02  0.011377  0.004629  0.000554  0.003493  0.005185  0.008211\n",
       "2020-06-03  0.002434  0.005505  0.002423 -0.011000 -0.002122  0.013649\n",
       "\n",
       "[1363 rows x 6 columns]"
      ]
     },
     "execution_count": 37,
=======
       "2015-01-09 -0.008405  0.001072 -0.011749 -0.005628 -0.012211 -0.008404"
      ]
     },
     "execution_count": 14,
>>>>>>> master
     "metadata": {},
     "output_type": "execute_result"
    }
   ],
   "source": [
<<<<<<< HEAD
    "ret = closes.pct_change().dropna()\n",
    "ret"
=======
    "# Otra forma (más fácil)\n",
    "ret = closes.pct_change().dropna()\n",
    "ret.head()"
>>>>>>> master
   ]
  },
  {
   "cell_type": "code",
<<<<<<< HEAD
   "execution_count": 39,
=======
   "execution_count": 15,
>>>>>>> master
   "metadata": {},
   "outputs": [
    {
     "data": {
<<<<<<< HEAD
      "image/png": "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\n",
=======
      "text/plain": [
       "<matplotlib.axes._subplots.AxesSubplot at 0x7f6b59ac07b8>"
      ]
     },
     "execution_count": 15,
     "metadata": {},
     "output_type": "execute_result"
    },
    {
     "data": {
      "image/png": "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\n",
>>>>>>> master
      "text/plain": [
       "<Figure size 432x288 with 1 Axes>"
      ]
     },
     "metadata": {
      "needs_background": "light"
     },
     "output_type": "display_data"
    }
   ],
   "source": [
    "# Graficar...\n",
<<<<<<< HEAD
    "ret.plot();"
=======
    "ret.plot()"
>>>>>>> master
   ]
  },
  {
   "cell_type": "markdown",
   "metadata": {},
   "source": [
    "**¿Qué se observa respecto a los precios?**\n",
    "\n",
    "Respuestas:\n",
    "- Los rendimientos parecen conservar tendecias estadísticas constantes (por ejemplo, oscilan al rededor de números cercanos a cero). "
   ]
  },
  {
   "cell_type": "markdown",
   "metadata": {},
   "source": [
    "### 1.2. Rendimientos logarítmicos (log-rendimientos)"
   ]
  },
  {
   "cell_type": "markdown",
   "metadata": {},
   "source": [
    "Otro rendimiento usado con frecuencia es el rendimiento continuamente compuesto o rendimiento logaritmico. Éste, está definido como\n",
    "\n",
    "$$\n",
    "r_t=\\ln\\left(\\frac{S_t}{S_{t-1}}\\right).\n",
    "$$\n",
    "\n",
    "Es fácil darse cuenta que $r_t=\\ln(1+R_t)$.\n",
    "\n",
    "<font color=blue>Ver en el tablero</font> que si $0\\leq|x|\\ll 1$, entonces $\\ln(1+x)\\approx x$."
   ]
  },
  {
   "cell_type": "code",
<<<<<<< HEAD
   "execution_count": 42,
=======
   "execution_count": 18,
>>>>>>> master
   "metadata": {},
   "outputs": [
    {
     "data": {
      "text/html": [
       "<div>\n",
       "<style scoped>\n",
       "    .dataframe tbody tr th:only-of-type {\n",
       "        vertical-align: middle;\n",
       "    }\n",
       "\n",
       "    .dataframe tbody tr th {\n",
       "        vertical-align: top;\n",
       "    }\n",
       "\n",
       "    .dataframe thead th {\n",
       "        text-align: right;\n",
       "    }\n",
       "</style>\n",
       "<table border=\"1\" class=\"dataframe\">\n",
       "  <thead>\n",
       "    <tr style=\"text-align: right;\">\n",
       "      <th>Symbols</th>\n",
       "      <th>MSFT</th>\n",
       "      <th>AAPL</th>\n",
       "      <th>AMZN</th>\n",
       "      <th>FB</th>\n",
       "      <th>GOOGL</th>\n",
       "      <th>^GSPC</th>\n",
       "    </tr>\n",
       "    <tr>\n",
       "      <th>Date</th>\n",
       "      <th></th>\n",
       "      <th></th>\n",
       "      <th></th>\n",
       "      <th></th>\n",
       "      <th></th>\n",
       "      <th></th>\n",
       "    </tr>\n",
       "  </thead>\n",
       "  <tbody>\n",
       "    <tr>\n",
<<<<<<< HEAD
       "      <td>2015-01-05</td>\n",
=======
       "      <th>2015-01-05</th>\n",
>>>>>>> master
       "      <td>-0.009238</td>\n",
       "      <td>-0.028576</td>\n",
       "      <td>-0.020731</td>\n",
       "      <td>-0.016191</td>\n",
       "      <td>-0.019238</td>\n",
       "      <td>-0.018447</td>\n",
       "    </tr>\n",
       "    <tr>\n",
<<<<<<< HEAD
       "      <td>2015-01-06</td>\n",
=======
       "      <th>2015-01-06</th>\n",
>>>>>>> master
       "      <td>-0.014786</td>\n",
       "      <td>0.000094</td>\n",
       "      <td>-0.023098</td>\n",
       "      <td>-0.013565</td>\n",
       "      <td>-0.024989</td>\n",
       "      <td>-0.008933</td>\n",
       "    </tr>\n",
       "    <tr>\n",
<<<<<<< HEAD
       "      <td>2015-01-07</td>\n",
=======
       "      <th>2015-01-07</th>\n",
>>>>>>> master
       "      <td>0.012625</td>\n",
       "      <td>0.013925</td>\n",
       "      <td>0.010544</td>\n",
       "      <td>0.000000</td>\n",
       "      <td>-0.002945</td>\n",
       "      <td>0.011563</td>\n",
       "    </tr>\n",
<<<<<<< HEAD
       "    <tr>\n",
       "      <td>2015-01-08</td>\n",
       "      <td>0.028994</td>\n",
       "      <td>0.037703</td>\n",
       "      <td>0.006813</td>\n",
       "      <td>0.026309</td>\n",
       "      <td>0.003478</td>\n",
       "      <td>0.017730</td>\n",
       "    </tr>\n",
       "    <tr>\n",
       "      <td>2015-01-09</td>\n",
       "      <td>-0.008441</td>\n",
       "      <td>0.001071</td>\n",
       "      <td>-0.011818</td>\n",
       "      <td>-0.005644</td>\n",
       "      <td>-0.012286</td>\n",
       "      <td>-0.008439</td>\n",
       "    </tr>\n",
=======
>>>>>>> master
       "  </tbody>\n",
       "</table>\n",
       "</div>"
      ],
      "text/plain": [
       "Symbols         MSFT      AAPL      AMZN        FB     GOOGL     ^GSPC\n",
       "Date                                                                  \n",
       "2015-01-05 -0.009238 -0.028576 -0.020731 -0.016191 -0.019238 -0.018447\n",
       "2015-01-06 -0.014786  0.000094 -0.023098 -0.013565 -0.024989 -0.008933\n",
<<<<<<< HEAD
       "2015-01-07  0.012625  0.013925  0.010544  0.000000 -0.002945  0.011563\n",
       "2015-01-08  0.028994  0.037703  0.006813  0.026309  0.003478  0.017730\n",
       "2015-01-09 -0.008441  0.001071 -0.011818 -0.005644 -0.012286 -0.008439"
      ]
     },
     "execution_count": 42,
=======
       "2015-01-07  0.012625  0.013925  0.010544  0.000000 -0.002945  0.011563"
      ]
     },
     "execution_count": 18,
>>>>>>> master
     "metadata": {},
     "output_type": "execute_result"
    }
   ],
   "source": [
    "# Calcular rendimientos continuamente compuestos\n",
<<<<<<< HEAD
    "log_ret = np.log(closes/closes.shift()).dropna()\n",
    "log_ret.head()"
=======
    "log_ret = np.log(St / St_1).dropna()\n",
    "log_ret.head(3)"
>>>>>>> master
   ]
  },
  {
   "cell_type": "code",
<<<<<<< HEAD
   "execution_count": 43,
=======
   "execution_count": 19,
>>>>>>> master
   "metadata": {},
   "outputs": [
    {
     "data": {
      "text/html": [
       "<div>\n",
       "<style scoped>\n",
       "    .dataframe tbody tr th:only-of-type {\n",
       "        vertical-align: middle;\n",
       "    }\n",
       "\n",
       "    .dataframe tbody tr th {\n",
       "        vertical-align: top;\n",
       "    }\n",
       "\n",
       "    .dataframe thead th {\n",
       "        text-align: right;\n",
       "    }\n",
       "</style>\n",
       "<table border=\"1\" class=\"dataframe\">\n",
       "  <thead>\n",
       "    <tr style=\"text-align: right;\">\n",
       "      <th>Symbols</th>\n",
       "      <th>MSFT</th>\n",
       "      <th>AAPL</th>\n",
       "      <th>AMZN</th>\n",
       "      <th>FB</th>\n",
       "      <th>GOOGL</th>\n",
       "      <th>^GSPC</th>\n",
       "    </tr>\n",
       "    <tr>\n",
       "      <th>Date</th>\n",
       "      <th></th>\n",
       "      <th></th>\n",
       "      <th></th>\n",
       "      <th></th>\n",
       "      <th></th>\n",
       "      <th></th>\n",
       "    </tr>\n",
       "  </thead>\n",
       "  <tbody>\n",
       "    <tr>\n",
<<<<<<< HEAD
       "      <td>2015-01-05</td>\n",
=======
       "      <th>2015-01-05</th>\n",
>>>>>>> master
       "      <td>-0.009196</td>\n",
       "      <td>-0.028172</td>\n",
       "      <td>-0.020517</td>\n",
       "      <td>-0.016061</td>\n",
       "      <td>-0.019054</td>\n",
       "      <td>-0.018278</td>\n",
       "    </tr>\n",
       "    <tr>\n",
<<<<<<< HEAD
       "      <td>2015-01-06</td>\n",
=======
       "      <th>2015-01-06</th>\n",
>>>>>>> master
       "      <td>-0.014677</td>\n",
       "      <td>0.000094</td>\n",
       "      <td>-0.022833</td>\n",
       "      <td>-0.013473</td>\n",
       "      <td>-0.024679</td>\n",
       "      <td>-0.008893</td>\n",
       "    </tr>\n",
       "    <tr>\n",
<<<<<<< HEAD
       "      <td>2015-01-07</td>\n",
=======
       "      <th>2015-01-07</th>\n",
>>>>>>> master
       "      <td>0.012705</td>\n",
       "      <td>0.014022</td>\n",
       "      <td>0.010600</td>\n",
       "      <td>0.000000</td>\n",
       "      <td>-0.002941</td>\n",
       "      <td>0.011630</td>\n",
       "    </tr>\n",
<<<<<<< HEAD
       "    <tr>\n",
       "      <td>2015-01-08</td>\n",
       "      <td>0.029418</td>\n",
       "      <td>0.038422</td>\n",
       "      <td>0.006836</td>\n",
       "      <td>0.026658</td>\n",
       "      <td>0.003484</td>\n",
       "      <td>0.017888</td>\n",
       "    </tr>\n",
       "    <tr>\n",
       "      <td>2015-01-09</td>\n",
       "      <td>-0.008405</td>\n",
       "      <td>0.001072</td>\n",
       "      <td>-0.011749</td>\n",
       "      <td>-0.005628</td>\n",
       "      <td>-0.012211</td>\n",
       "      <td>-0.008404</td>\n",
       "    </tr>\n",
=======
>>>>>>> master
       "  </tbody>\n",
       "</table>\n",
       "</div>"
      ],
      "text/plain": [
       "Symbols         MSFT      AAPL      AMZN        FB     GOOGL     ^GSPC\n",
       "Date                                                                  \n",
       "2015-01-05 -0.009196 -0.028172 -0.020517 -0.016061 -0.019054 -0.018278\n",
       "2015-01-06 -0.014677  0.000094 -0.022833 -0.013473 -0.024679 -0.008893\n",
<<<<<<< HEAD
       "2015-01-07  0.012705  0.014022  0.010600  0.000000 -0.002941  0.011630\n",
       "2015-01-08  0.029418  0.038422  0.006836  0.026658  0.003484  0.017888\n",
       "2015-01-09 -0.008405  0.001072 -0.011749 -0.005628 -0.012211 -0.008404"
      ]
     },
     "execution_count": 43,
=======
       "2015-01-07  0.012705  0.014022  0.010600  0.000000 -0.002941  0.011630"
      ]
     },
     "execution_count": 19,
>>>>>>> master
     "metadata": {},
     "output_type": "execute_result"
    }
   ],
   "source": [
    "# Recordar rendimientos porcentuales. Ver que son similares\n",
<<<<<<< HEAD
    "ret = closes.pct_change().dropna()\n",
    "ret.head()"
=======
    "ret.head(3)"
>>>>>>> master
   ]
  },
  {
   "cell_type": "code",
<<<<<<< HEAD
   "execution_count": 46,
=======
   "execution_count": 20,
>>>>>>> master
   "metadata": {},
   "outputs": [
    {
     "data": {
      "text/html": [
       "<div>\n",
       "<style scoped>\n",
       "    .dataframe tbody tr th:only-of-type {\n",
       "        vertical-align: middle;\n",
       "    }\n",
       "\n",
       "    .dataframe tbody tr th {\n",
       "        vertical-align: top;\n",
       "    }\n",
       "\n",
       "    .dataframe thead th {\n",
       "        text-align: right;\n",
       "    }\n",
       "</style>\n",
       "<table border=\"1\" class=\"dataframe\">\n",
       "  <thead>\n",
       "    <tr style=\"text-align: right;\">\n",
       "      <th>Symbols</th>\n",
       "      <th>MSFT</th>\n",
       "      <th>AAPL</th>\n",
       "      <th>AMZN</th>\n",
       "      <th>FB</th>\n",
       "      <th>GOOGL</th>\n",
       "      <th>^GSPC</th>\n",
       "    </tr>\n",
       "    <tr>\n",
       "      <th>Date</th>\n",
       "      <th></th>\n",
       "      <th></th>\n",
       "      <th></th>\n",
       "      <th></th>\n",
       "      <th></th>\n",
       "      <th></th>\n",
       "    </tr>\n",
       "  </thead>\n",
       "  <tbody>\n",
       "    <tr>\n",
<<<<<<< HEAD
       "      <td>2015-01-05</td>\n",
=======
       "      <th>2015-01-05</th>\n",
>>>>>>> master
       "      <td>0.000043</td>\n",
       "      <td>4.044356e-04</td>\n",
       "      <td>0.000213</td>\n",
       "      <td>0.000130</td>\n",
       "      <td>0.000184</td>\n",
       "      <td>0.000169</td>\n",
       "    </tr>\n",
       "    <tr>\n",
<<<<<<< HEAD
       "      <td>2015-01-06</td>\n",
=======
       "      <th>2015-01-06</th>\n",
>>>>>>> master
       "      <td>0.000109</td>\n",
       "      <td>4.464215e-09</td>\n",
       "      <td>0.000265</td>\n",
       "      <td>0.000092</td>\n",
       "      <td>0.000310</td>\n",
       "      <td>0.000040</td>\n",
       "    </tr>\n",
       "    <tr>\n",
<<<<<<< HEAD
       "      <td>2015-01-07</td>\n",
=======
       "      <th>2015-01-07</th>\n",
>>>>>>> master
       "      <td>0.000080</td>\n",
       "      <td>9.740020e-05</td>\n",
       "      <td>0.000056</td>\n",
       "      <td>0.000000</td>\n",
       "      <td>0.000004</td>\n",
       "      <td>0.000067</td>\n",
       "    </tr>\n",
       "    <tr>\n",
<<<<<<< HEAD
       "      <td>2015-01-08</td>\n",
=======
       "      <th>2015-01-08</th>\n",
>>>>>>> master
       "      <td>0.000424</td>\n",
       "      <td>7.197628e-04</td>\n",
       "      <td>0.000023</td>\n",
       "      <td>0.000349</td>\n",
       "      <td>0.000006</td>\n",
       "      <td>0.000158</td>\n",
       "    </tr>\n",
       "    <tr>\n",
<<<<<<< HEAD
       "      <td>2015-01-09</td>\n",
=======
       "      <th>2015-01-09</th>\n",
>>>>>>> master
       "      <td>0.000036</td>\n",
       "      <td>5.742497e-07</td>\n",
       "      <td>0.000070</td>\n",
       "      <td>0.000016</td>\n",
       "      <td>0.000075</td>\n",
       "      <td>0.000036</td>\n",
       "    </tr>\n",
       "  </tbody>\n",
       "</table>\n",
       "</div>"
      ],
      "text/plain": [
       "Symbols         MSFT          AAPL      AMZN        FB     GOOGL     ^GSPC\n",
       "Date                                                                      \n",
       "2015-01-05  0.000043  4.044356e-04  0.000213  0.000130  0.000184  0.000169\n",
       "2015-01-06  0.000109  4.464215e-09  0.000265  0.000092  0.000310  0.000040\n",
       "2015-01-07  0.000080  9.740020e-05  0.000056  0.000000  0.000004  0.000067\n",
       "2015-01-08  0.000424  7.197628e-04  0.000023  0.000349  0.000006  0.000158\n",
       "2015-01-09  0.000036  5.742497e-07  0.000070  0.000016  0.000075  0.000036"
      ]
     },
<<<<<<< HEAD
     "execution_count": 46,
=======
     "execution_count": 20,
>>>>>>> master
     "metadata": {},
     "output_type": "execute_result"
    }
   ],
   "source": [
    "# Veamos el valor absoluto de la diferencia\n",
<<<<<<< HEAD
    "np.abs(log_ret-ret).head()"
=======
    "np.abs(ret - log_ret).head()"
>>>>>>> master
   ]
  },
  {
   "cell_type": "markdown",
   "metadata": {},
   "source": [
    "Por lo anterior, muchas veces se usan para el análisis los rendimientos continuamente compuestos.\n",
    "___"
   ]
  },
  {
   "cell_type": "markdown",
   "metadata": {},
   "source": [
    "## 2. Caracterización de la distribución de los rendimientos\n",
    "\n",
    "Entonces:\n",
    "- partimos de que tenemos los rendimientos porcentuales diarios de Apple, Walmart, IBM y Nike desde inicios del 2011 a finales del 2015;\n",
    "- ¿cómo resumirían estos datos?"
   ]
  },
  {
   "cell_type": "code",
<<<<<<< HEAD
   "execution_count": 47,
=======
   "execution_count": 21,
>>>>>>> master
   "metadata": {},
   "outputs": [
    {
     "data": {
      "text/plain": [
       "Symbols\n",
       "MSFT     0.001244\n",
       "AAPL     0.001026\n",
       "AMZN     0.001712\n",
       "FB       0.000981\n",
       "GOOGL    0.000873\n",
       "^GSPC    0.000375\n",
       "dtype: float64"
      ]
     },
<<<<<<< HEAD
     "execution_count": 47,
=======
     "execution_count": 21,
>>>>>>> master
     "metadata": {},
     "output_type": "execute_result"
    }
   ],
   "source": [
    "# Rendimiento medio diario (media aritmética)\n",
    "ret.mean()"
   ]
  },
  {
   "cell_type": "code",
<<<<<<< HEAD
   "execution_count": 48,
=======
   "execution_count": 22,
>>>>>>> master
   "metadata": {},
   "outputs": [
    {
     "data": {
      "text/plain": [
       "Symbols\n",
       "MSFT     0.017329\n",
       "AAPL     0.017913\n",
       "AMZN     0.019184\n",
       "FB       0.019491\n",
       "GOOGL    0.016759\n",
       "^GSPC    0.011740\n",
       "dtype: float64"
      ]
     },
<<<<<<< HEAD
     "execution_count": 48,
=======
     "execution_count": 22,
>>>>>>> master
     "metadata": {},
     "output_type": "execute_result"
    }
   ],
   "source": [
    "# Volatilidad diaria (desviación estándar)\n",
    "ret.std()"
   ]
  },
  {
   "cell_type": "code",
<<<<<<< HEAD
   "execution_count": 49,
=======
   "execution_count": 23,
>>>>>>> master
   "metadata": {},
   "outputs": [
    {
     "data": {
      "text/html": [
       "<div>\n",
       "<style scoped>\n",
       "    .dataframe tbody tr th:only-of-type {\n",
       "        vertical-align: middle;\n",
       "    }\n",
       "\n",
       "    .dataframe tbody tr th {\n",
       "        vertical-align: top;\n",
       "    }\n",
       "\n",
       "    .dataframe thead th {\n",
       "        text-align: right;\n",
       "    }\n",
       "</style>\n",
       "<table border=\"1\" class=\"dataframe\">\n",
       "  <thead>\n",
       "    <tr style=\"text-align: right;\">\n",
       "      <th></th>\n",
<<<<<<< HEAD
       "      <th>R.E</th>\n",
=======
       "      <th>R.E.</th>\n",
>>>>>>> master
       "      <th>Vol</th>\n",
       "    </tr>\n",
       "    <tr>\n",
       "      <th>Symbols</th>\n",
       "      <th></th>\n",
       "      <th></th>\n",
       "    </tr>\n",
       "  </thead>\n",
       "  <tbody>\n",
       "    <tr>\n",
<<<<<<< HEAD
       "      <td>MSFT</td>\n",
=======
       "      <th>MSFT</th>\n",
>>>>>>> master
       "      <td>0.001244</td>\n",
       "      <td>0.017329</td>\n",
       "    </tr>\n",
       "    <tr>\n",
<<<<<<< HEAD
       "      <td>AAPL</td>\n",
=======
       "      <th>AAPL</th>\n",
>>>>>>> master
       "      <td>0.001026</td>\n",
       "      <td>0.017913</td>\n",
       "    </tr>\n",
       "    <tr>\n",
<<<<<<< HEAD
       "      <td>AMZN</td>\n",
=======
       "      <th>AMZN</th>\n",
>>>>>>> master
       "      <td>0.001712</td>\n",
       "      <td>0.019184</td>\n",
       "    </tr>\n",
       "    <tr>\n",
<<<<<<< HEAD
       "      <td>FB</td>\n",
=======
       "      <th>FB</th>\n",
>>>>>>> master
       "      <td>0.000981</td>\n",
       "      <td>0.019491</td>\n",
       "    </tr>\n",
       "    <tr>\n",
<<<<<<< HEAD
       "      <td>GOOGL</td>\n",
=======
       "      <th>GOOGL</th>\n",
>>>>>>> master
       "      <td>0.000873</td>\n",
       "      <td>0.016759</td>\n",
       "    </tr>\n",
       "    <tr>\n",
<<<<<<< HEAD
       "      <td>^GSPC</td>\n",
=======
       "      <th>^GSPC</th>\n",
>>>>>>> master
       "      <td>0.000375</td>\n",
       "      <td>0.011740</td>\n",
       "    </tr>\n",
       "  </tbody>\n",
       "</table>\n",
       "</div>"
      ],
      "text/plain": [
<<<<<<< HEAD
       "              R.E       Vol\n",
=======
       "             R.E.       Vol\n",
>>>>>>> master
       "Symbols                    \n",
       "MSFT     0.001244  0.017329\n",
       "AAPL     0.001026  0.017913\n",
       "AMZN     0.001712  0.019184\n",
       "FB       0.000981  0.019491\n",
       "GOOGL    0.000873  0.016759\n",
       "^GSPC    0.000375  0.011740"
      ]
     },
<<<<<<< HEAD
     "execution_count": 49,
=======
     "execution_count": 23,
>>>>>>> master
     "metadata": {},
     "output_type": "execute_result"
    }
   ],
   "source": [
    "# Podemos resumir en un DataFrame\n",
<<<<<<< HEAD
    "resumen = pd.DataFrame({'R.E':ret.mean(),'Vol':ret.std()})\n",
=======
    "resumen = pd.DataFrame({'R.E.': ret.mean(), 'Vol': ret.std()})\n",
>>>>>>> master
    "resumen"
   ]
  },
  {
   "cell_type": "markdown",
   "metadata": {},
   "source": [
    "Normalmente se reportan rendimientos esperados y volatilidades en una base anual. Para anualizar:\n",
    "\n",
    "$$E[r_a]=12E[r_m]=252E[r_d]=52E[r_w],\\text{ y}$$\n",
    "\n",
    "$$\\sigma_{r_a}=\\sqrt{12}\\sigma_{r_m}=\\sqrt{252}\\sigma_{r_d}=\\sqrt{52}\\sigma_{r_w}$$"
   ]
  },
  {
   "cell_type": "code",
<<<<<<< HEAD
   "execution_count": 50,
=======
   "execution_count": 24,
>>>>>>> master
   "metadata": {},
   "outputs": [
    {
     "data": {
      "text/html": [
       "<div>\n",
       "<style scoped>\n",
       "    .dataframe tbody tr th:only-of-type {\n",
       "        vertical-align: middle;\n",
       "    }\n",
       "\n",
       "    .dataframe tbody tr th {\n",
       "        vertical-align: top;\n",
       "    }\n",
       "\n",
       "    .dataframe thead th {\n",
       "        text-align: right;\n",
       "    }\n",
       "</style>\n",
       "<table border=\"1\" class=\"dataframe\">\n",
       "  <thead>\n",
       "    <tr style=\"text-align: right;\">\n",
       "      <th></th>\n",
<<<<<<< HEAD
       "      <th>R.E</th>\n",
=======
       "      <th>R.E.</th>\n",
>>>>>>> master
       "      <th>Vol</th>\n",
       "    </tr>\n",
       "    <tr>\n",
       "      <th>Symbols</th>\n",
       "      <th></th>\n",
       "      <th></th>\n",
       "    </tr>\n",
       "  </thead>\n",
       "  <tbody>\n",
       "    <tr>\n",
<<<<<<< HEAD
       "      <td>MSFT</td>\n",
=======
       "      <th>MSFT</th>\n",
>>>>>>> master
       "      <td>0.313510</td>\n",
       "      <td>0.275096</td>\n",
       "    </tr>\n",
       "    <tr>\n",
<<<<<<< HEAD
       "      <td>AAPL</td>\n",
=======
       "      <th>AAPL</th>\n",
>>>>>>> master
       "      <td>0.258671</td>\n",
       "      <td>0.284364</td>\n",
       "    </tr>\n",
       "    <tr>\n",
<<<<<<< HEAD
       "      <td>AMZN</td>\n",
=======
       "      <th>AMZN</th>\n",
>>>>>>> master
       "      <td>0.431373</td>\n",
       "      <td>0.304536</td>\n",
       "    </tr>\n",
       "    <tr>\n",
<<<<<<< HEAD
       "      <td>FB</td>\n",
=======
       "      <th>FB</th>\n",
>>>>>>> master
       "      <td>0.247309</td>\n",
       "      <td>0.309414</td>\n",
       "    </tr>\n",
       "    <tr>\n",
<<<<<<< HEAD
       "      <td>GOOGL</td>\n",
=======
       "      <th>GOOGL</th>\n",
>>>>>>> master
       "      <td>0.220106</td>\n",
       "      <td>0.266042</td>\n",
       "    </tr>\n",
       "    <tr>\n",
<<<<<<< HEAD
       "      <td>^GSPC</td>\n",
=======
       "      <th>^GSPC</th>\n",
>>>>>>> master
       "      <td>0.094551</td>\n",
       "      <td>0.186364</td>\n",
       "    </tr>\n",
       "  </tbody>\n",
       "</table>\n",
       "</div>"
      ],
      "text/plain": [
<<<<<<< HEAD
       "              R.E       Vol\n",
=======
       "             R.E.       Vol\n",
>>>>>>> master
       "Symbols                    \n",
       "MSFT     0.313510  0.275096\n",
       "AAPL     0.258671  0.284364\n",
       "AMZN     0.431373  0.304536\n",
       "FB       0.247309  0.309414\n",
       "GOOGL    0.220106  0.266042\n",
       "^GSPC    0.094551  0.186364"
      ]
     },
<<<<<<< HEAD
     "execution_count": 50,
=======
     "execution_count": 24,
>>>>>>> master
     "metadata": {},
     "output_type": "execute_result"
    }
   ],
   "source": [
    "# Resumen en base anual\n",
<<<<<<< HEAD
    "resumen_anual = pd.DataFrame({'R.E':ret.mean()*252,'Vol':ret.std()*(252**.5)})\n",
=======
    "resumen_anual = pd.DataFrame({'R.E.': 252 * ret.mean(), 'Vol': np.sqrt(252) * ret.std()})\n",
>>>>>>> master
    "resumen_anual"
   ]
  },
  {
   "cell_type": "code",
<<<<<<< HEAD
   "execution_count": 61,
   "metadata": {
    "scrolled": true
   },
   "outputs": [
    {
     "data": {
      "image/png": "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\n",
=======
   "execution_count": 29,
   "metadata": {},
   "outputs": [
    {
     "data": {
      "image/png": "iVBORw0KGgoAAAANSUhEUgAAAY8AAAEICAYAAACnL3iHAAAABHNCSVQICAgIfAhkiAAAAAlwSFlzAAALEgAACxIB0t1+/AAAADh0RVh0U29mdHdhcmUAbWF0cGxvdGxpYiB2ZXJzaW9uMy4yLjAsIGh0dHA6Ly9tYXRwbG90bGliLm9yZy8GearUAAAgAElEQVR4nO3deXxV5bn3/89FEgYDQgVBAcOgFoQAIQaoFWw4p1bUqtBJsPYAxVoRVB4HREtrrcVqba2/0x8citZSpUJbFUSKom1NASfGlMHieRBBQmoR6pCEMcn1/LF3YoZNsleSvbOz+b5fr/1ir7Xue63rMpKLNd23uTsiIiJBtGruAEREpOVR8RARkcBUPEREJDAVDxERCUzFQ0REAktt7gBiqUuXLt67d+/mDqNRSkpKSE9Pb+4wGkU5JI5kyCMZcoDEzWPjxo0H3P30+toldfHo3bs3GzZsaO4wGiUvL4/c3NzmDqNRlEPiSIY8kiEHSNw8zGxPNO102UpERAJT8RARaSGWLl2KmbFjxw4Adu/ejZnx/e9/v7LNgQMHSEtLY/r06QBccsklZGVlVX66d+/OiBEjAJg0aRI9evTg6NGjlX2BQdHEouIhItJCLF68mJEjR7JkyZLKdX379mXFihWVy3/84x8ZOHBg5fKqVavIz88nPz+fV199lVNPPZUf//jHldtTUlJ4/PHHA8ei4iEikoD2HCxh9rKtZN6zij6z/sR5dy3jhb/8jR/97JfVike7du0477zzKu/v/v73v+cb3/hGxH3ecsstXHbZZVx88cWV62bMmMEvfvELSktLA8WX1DfMRURaolfe3s+NizZxvKyc0vLQ+IMfbFuL9RzCjSveJ6VdBzZt2sRpp50GwPjx41myZAlnnHEGKSkpdO/encLCwmr7XLp0KRs2bODNN9+stj4jI4ORI0fy5JNPcsUVV0Qdo848REQSyJ6DJdy4aBOHj5dVFg6AQ2/9jXb9L+Lw8TIOdM3hV48/UbltzJgxvPzyyyxevJirr7661j737dvHzTffzFNPPUWbNm1qbb/77rt56KGHKC8vjzpOnXmIiCSQR9fs4nhZ9V/iZYc/4ch7Wzh2YA9g4OUs2ZTKrNtuAaB169acf/75/PznP2f79u08//zzlX3dnYkTJzJr1iwGDBgQ8ZjnnHMOWVlZ/OEPf4g6ThUPEZEEsmxzYbUzDoBDb79K+sD/oPOY6ZXrPlh8FwUFBZXLt912G1/4whfo3Llztb4/+9nPaNu2LdOmTavzuN/73ve4/PLLo45TxUNEJIGUHK1947rkrb/R8XNfr7au7Wcv4P77769cHjhwYLWnrCrMnj2bnj17kpWVVbnuM5/5DK+88kq1dgMHDiQ7O5s9e6J6R1DFQ0QkkaS3SaW4RgE545oHarU78/Nf4YV7L4m4j0mTJjFp0iSAync4Ilm4cGG15WeffRYz2xpNnLphLiKSQMYO7U5qK6uzTWorY9zQHnGKKDIVDxGRBPKdUX1JS6n7V3NaSiuuG9UnThFFpuIhIpJAenVOZ9612bRLS6l1BpLaymiXlsK8a7Pp1bl5R+RV8RARSTCj+3XlxRmjmDA8g/ZtUjGD9m1SmTA8gxdnjGJ0v67NHaJumIuIJKJendO5b2wm943NbO5QItKZh4iIBKbiISIigal4iIhIYCoeIiISmIqHiIgEpuIhIiKBqXiIiEhgKh4iIhJYXIuHmY0xs7fNbKeZzaqj3TAzKzOzrwXtKyIisRe34mFmKcBc4FJgADDBzGpNaxVu9yCwKmhfERGJj3ieeQwHdrr7Lnc/BiwBrorQ7ibgGWB/A/qKiEgcxLN49AD2VlkuCK+rZGY9gHHA/KB9RUQkfuI5MGKk2U28xvIjwJ3uXmZWrXk0fUMNza4Hrgfo1q0beXl5wSNNIMXFxcohASRDDpAceSRDDtDy84hn8SgAzqqy3BMorNEmB1gSLhxdgMvMrDTKvgC4+wJgAUBOTo7n5uY2RezNJi8vD+XQ/JIhB0iOPJIhB2j5ecSzeKwHzjWzPsA+YDxwTdUG7l45NZaZLQRWuPsyM0utr6+IiMRP3IqHu5ea2XRCT1GlAI+7+3YzuyG8veZ9jnr7xiNuERGpLa6TQbn7SmBljXURi4a7T6qvr4iINA+9YS4iIoGpeIiISGAqHiIiEpiKh4iIBKbiISIigal4iIhIYCoeIiISmIqHiIgEpuIhIiKBqXiIiEhg9Q5PYmanRbGfcnf/qAniERGRFiCasa0Kw59Ic2pUSAEymiQiERFJeNEUj3+4+9C6GpjZ5iaKR0REWoBo7nlcYGatzOzuuto0VUAiIpL46i0e7n7E3cuBL9bVpkmjEhGRhBbkaavNZnaPmekJLRGRk1yQyaDOAgYBU83sTWALsMXd/xiTyEREJGFFXTzc/RsAZtYGGEiokAwHVDxERE4ygaehdfejwKbwR0RETkL13r8ws3qLRDRtREQkeURz5nGemW2pY7sBHZsoHhERaQGiKR7DgKJ62pRFczAzGwP8f4TeSH/M3R+osf0q4D6gHCgFZrj72vC23eE4yoBSd8+J5pgiItL0oikeT7h7NoCZXefuj1VsMLNT3P1QNAcysxRgLnAxUACsN7Pl7v5WlWZ/AZa7u5vZYOAPQP8q20e7+4FojiciIrETzTsbVce0urHGtjUBjjUc2Onuu9z9GLAEuKpqA3cvdncPL6YDjoiIJJxozjyq/gKvOThikBcGewB7qywXACNqNjKzccBPgK7A5TXieMnMHPiVuy+IdBAzux64HqBbt27k5eUFCDHxFBcXK4cEkAw5QHLkkQw5QMvPI5ricYaZTQL+Tu3iEeTMINKovLX6u/tSYKmZXUTo/kfFsCgXunuhmXUFXjazHe6+OkL/BcACgJycHM/NzQ0QYuLJy8tDOTS/ZMgBkiOPZMgBWn4e0RSPHwI5wGSgp5ltB3aEP10CHKuA0FvqFXoSGuo9IndfbWZnm1kXdz/g7oXh9fvNbCmhy2C1ioeIiMRevcWj5uUhM+sJDCb0hnmQX97rgXPNrA+wDxgPXFNj3+cA74RvmGcDrYGDZpYOtHL3ovD3LwE/CnBsERFpQg15w7yA0FnEyoD9Ss1sOrCK0KO6j7v7djO7Ibx9PvBV4L/M7DhwGLg6XEi6EbqUVRHzU+7+YtDYRUSkaQQuHo3h7iupUXTCRaPi+4PAgxH67QKGxDxAERGJioZXFxGRwAKdeZjZEGBUeHGNu/+96UMSEZFEF/WZh5ndAvyO0PsXXYFFZnZTrAITEZHEFeTMYwowwt1LAMzsQeB14JexCExERBJXkHseRvUBEMuI/OKfiIgkuSBnHr8B3gy/oAcwFvh104ckIiKJLsg0tA+bWR4wktAZx2R33xyrwEREJHEFetrK3TX9rIiI1F88zOzWura7+8NNF46InIzMjGuvvZYnn3wSgNLSUs4880xGjBjBihUr+Ne//sWUKVPYu3cvH3/8MQMGDGDlypXs3r2b8847j379+lXua9y4cSxdGrq6vnXrVgYNGgTAt7/9bW6++eb4J5ekojnz6BD+sx+hWQWXh5evQAMTikgTSE9PZ9u2bRw+fJh27drx8ssv06NHj8rtP/jBD7j44ou55ZZbyMvL47TTTqvcdvbZZ5Ofn19tf/fccw8A7du3r7VNmka9T1u5+73ufi+hEXSz3f02d78NOJ/QyLgiIoHsOVjC7GVbybxnFX1m/YnDx8o45ezzWbjkGQAWL17MhAkTKtv/85//pGfPT3/dDB48OO4xS3VBHtXNAI5VWT4G9G7SaEQk6b3y9n7GPLKGJev2Uny0FCc0sc97nYZy50/ns2rLe2zZsoURIz6dK27atGlMmTKF0aNHs2jRIgoLP53N4Z133iErK4usrCymTZsW/4ROUkFumD8JrAs/quvAOOCJmEQlIklpz8ESbly0icPHy2ptS+nSm6Mf/YtJ33uEr4y+uNq2Sy65hF27dvHiiy+ycOFChg4dyrZt24DIl60k9qI+83D3OYQmhPoQ+IjQo7r3xyowEUk+j67ZxfGy8hNub3fOCPb/+TFKe19Qa9tpp53GNddcw913382wYcNYvVq3XJtT0FF13yU0JMlmoEN4qlgRkags21xIafmJZ69uP+hiOl44nlf/nV5t/V//+lcOHToEwKFDh3jnnXfIyMiIaaxSt6gvW5nZdcAthG6S5wOfI1RI/iM2oYlIsik5Wlrn9tRTu3BqzlWUHCsF2lSu37hxI9OnTyc1NZWioiKmT5/OsGHD2L17d2wDlhMKcs/jFkKP6r7h7qPNrD9wb2zCEpFklN4mleIIBSTj1qert2udSm5uLrm5uQDccccd3HHHHQDk5eVVru/du3flvY9IiouLmyZwqSXIZasj7n4EwMzauPsOQu9+iIhEZezQ7qS2qns81dRWxrihPepsI80vSPEoMLNOwDLgZTN7Diisp4+ISKXvjOpLWkrdv3bSUlpx3ag+cYpIGiqq4mFmBtzs7h+5+w+B7xMaUXdsDGMTkSTTq3M6867Npl1aSq0zkNRWRru0FOZdm02vzukn2IMkiqiKh7s7oTOOiuW/uftydz9WR7dazGyMmb1tZjvNbFaE7VeZ2RYzyzezDWY2Mtq+ItIyjO7XlRdnjGLC8Azat0nFDNq3SWXC8AxenDGK0f26NneIEoUgN8zfMLNh7r6+IQcysxRgLnAxUACsN7Pl7v5WlWZ/AZa7u5vZYOAPQP8o+4pIC9Grczr3jc3kvrGZzR2KNFCQex6jCRWQd8JnB1vNbEuA/sOBne6+K3zGsgS4qmoDdy8On+UApBN6kz2qviIiEj9BzjwubeSxegB7qywXACNqNjKzccBPgK7A5UH6hvtfD1wP0K1bN/Ly8hoZdvMqLi5WDgkgGXKA5MgjGXKAlp9HkOLxHvBNoK+7/8jMMoAzgD1R9o/0fF6tV03dfSmwNPz2+n3AF6PtG+6/AFgAkJOT4xXPg7dUVZ9pb6mUQ+JIhjySIQdo+XkEuWw1D7gAqBgnuYjQfYhoFQBnVVnuSR2P+rr7auBsM+sStK+IiMRWkOIxwt2nAUcA3P1DoHWA/uuBc82sj5m1Bsbz6cRSAJjZOeHHgjGz7PD+D0bTV0RE4ifIZavj4aeeHMDMTgdOPDxmDe5eambTgVVACvC4u283sxvC2+cDXwX+y8yOA4eBq8M30CP2DRC7iIg0oSDF47+BpUA3M5sDfA2YHeRg7r4SWFlj3fwq3x8EHoy2r4iINI+oi4e7/87MNgL/GV411t3/EZuwREQkkQUZkr0tcBkwitDlqtZm9m7FYIkiInLyCHLZ6glCT1j9d3h5AqGpab/e1EGJiEhiC1I8+rn7kCrLr5jZ35s6IBERSXxBHtXdbGafq1gwsxHAq00fkoiIJLogZx4jCD1G+154OQP4h5ltJTTw7uAmj05ERBJSkOIxJmZRiIhIixLkUd1ox7ASEZEkF/U9DzP7upl1CH+fbWbPhocQERGRk0yQG+bfd/ei8Ox+lwC/Bf4nNmGJiEgiC1I8ysJ/Xg78j7s/R7CBEUVEJEkEKR77zOxXwNXASjNrE7C/iEizWLp0KWbGjh07qq3fvHkzZsaqVauqrU9JSSErK4vMzEy+/vWvc+jQIQDat28ft5gTXZBf/t8gNKrtJe7+EXAacEdMohIRaUKLFy9m5MiRLFmyJOL6xYsXV1vfrl078vPz2bZtG61bt2b+/PlIdUGKx2FC84pXTAaVBnzU5BGJiDSh4uJiXn31VX79619XKx7uztNPP83ChQt56aWXOHIk8jB9o0aNYufOnfEKt8UIOpPg52j4TIIiIjG352AJs5dtJfOeVfSZ9Sf6f+tHnH7eCNp07sFpp53Gpk2bAHj11Vfp06cPZ599Nrm5uaxcWXvGh9LSUl544QUGDRoU7zQSXjxnEhQRialX3t7PmEfWsGTdXoqPluLAv7e8wv7Tz2fMI2s4f/TllZeoFi9ezPjx4wEYP358tUtXhw8fJisri5ycHDIyMpgyZUpzpJPQ4jaToIhILO05WMKNizZx+HhZ5bqyw59w5L0t7D+wh/0YO72crqe25YEHHuCZZ55h+fLlzJkzB3fn4MGDFBUV0aFDh8p7HnJiDZlJsGtDZxIUEYmVR9fs4nhZ9X/PHnr7VdIH/gedx0wHILWVcfy5H/DjH/+YIUOGVHvKauLEiSxbtoxvfetbcY27pYr6spW7/w6YCfwE+CehmQT/GKvARESCWLa5kNJyr7au5K2/ccpnL6hcLi13jp01jDfeeINx48ZVa/vVr36Vp556qs5jHDp0iJ49e1Z+Hn744aZLoIlVPG5c8dm9ezd5eXl07NiRrKwsBg8ezBe/+EX279/foP0HOfPA3XcAO+ptKCISZyVHS2utO+OaB2qtazv0y7zwk8trrb/yyiu58sorgdATWpGUl7ecK/WRLr3t3r2bUaNGsWLFCgDuuusu5s6dy7333ht4/4GKh4hIokpvk0pxhAJSq13r5Py1t+dgCY+u2cWyzYWUHC3l8LEyZi/byndG9aVX5/Ra7d2doqIizjnnnAYdL65viJvZGDN728x2mtmsCNu/aWZbwp/XzGxIlW27zWyrmeWb2YZ4xi0iiW/s0O6ktrI626S2MsYN7RGniOIn0lNm5aXHeOi7V9Fv4GBGXnxZZds1a9aQlZVFRkYGf/7zn/n2t7/doGMGKsHhX+ajKmJw96inoQ0/qTUXuBgoANab2XJ3f6tKs3eBL7j7h2Z2KbCA0CRUFUa7+4EgMYvIyeE7o/ryzMZ9lJaXnbBNWkorrhvVJ45RxV6kp8wALLU1Z07+JQAH01LYc7AEoNplqwcffJCZM2c26A36IEOy3wL8Duga/iwys5sCHGs4sNPdd7n7MWAJcFXVBu7+Wvj9EYA3gJ4B9i8iJ7FendOZd2027dJSap2BpLYy2qWlMO/a7IiXcFqySE+Z1XS8rJzH1rxba/2VV17J6tWrG3TcIGceUwi9KFgCYGYPAq8Dv4yyfw9gb5XlAqqfVUQ63gtVlh14ycwc+JW7L4jUycyuB64H6NatG3l5eVGGl5iKi4uVQwJIhhwgOfKoKwcD7r2gNat2H+e1wlKOlELbVPh89xQu6Z2G/fMt8v75VsS+8dZUP4un15dQWs99/NJy5+kNe+jc5f9y8ODByuOuWLGCTp06NSiOIMXD+HRYdsLf677AWLt/TR5hHWY2mlDxGFll9YXuXmhmXYGXzWyHu9cqmeGisgAgJyfHc3NzA4SYePLy8lAOzS8ZcoDkyCOaHL4Rn1Aapal+Fkdf/FNU7Y6UQVZWFvfccw8zZszA3enYsSMLFy7ks5/9bODjBikevwHeNLOl4eWxwOMB+hcAZ1VZ7gkU1mxkZoOBx4BL3f1gxXp3Lwz/uT8cw3CgYedbIiJJ4kRPmWXc+nT1dq1Tyc3N5eOPP26S4wZ5SfBhYDLwb+BDYLK7/yLAsdYD55pZHzNrDYwHlldtYGYZwLPAt9z9f6usT68yBW468CVgW4Bji4gkpeZ6yizqMw8ze9Dd7wQ2RVhXL3cvNbPphOYESQEed/ftZnZDePt84AdAZ2CemQGUunsO0A1YGl6XCjzl7i9GG7uISLJqrqfMgly2uhioWSgujbDuhNx9JbCyxrr5Vb5fB1wXod8uYEjN9SIiJ7uKp8xuXLSJ42Xl1YZoSW1lpKW0islTZvUWDzObCtwI9DWzLRWrgfbAa00ajYiIBDa6X1denDGKx9a8y9LN+yg5Vkp661TGDe3BdaP6xOTx5GjOPJ4i9MjsT4Cqb4UXufu/mzwiEREJrFfndO4bm8l9YzPjcrx6i4e7fwx8bGaTga8AvSv6mRnu/qOYRigiIgknyD2PZcDHwEbgaGzCERGRliDIwIg93f1qd/+pu/+84hOzyEQk4fzrX//immuuoW/fvpx//vlccMEFLF0aevVr7dq1DB8+nP79+9O/f38WLKg+CMSCBQsqtw0fPpy1a9dWbistLeXuu+/m3HPPrZx/Ys6cOZXb27dvH58EJWpBzjxeM7NB7r41ZtGISMJyd8aOHcvEiRMrJ03as2cPy5cv5/333+eaa65h2bJlZGdnc+DAAS655BJ69OjB5ZdfzooVK/jVr37F2rVr6dKlC5s2bWLs2LGsW7eOM844g9mzZ/P++++zdetW2rZtS1FRET//uf5tmsiCnHmMBDaFh1TfEh4efUu9vUSkxdpzsITZy7aSec8qzpxwP1sKSyg448LKEVp79erFTTfdxNy5c5k0aRLZ2dkAdOnShZ/+9Kc88EBoMqYHH3yQhx56iC5dugCQnZ3NxIkTmTt3LocOHeLRRx/ll7/8JW3btgWgQ4cO/PCHP4x/whK1IGcel8YsChFJOK+8vb/auwPHDrxHSte+LFm3l2c27mPetdmM7tcVgO3btzNx4sRq/XNycti+fXvl9vPPP7/W9t/+9rfs3LmTjIwMOnToEJ/EpEkEOfN4j9BcHhPdfQ+hQQ27xSQqEWlWVeeIqDkveGm5c/h4GV/55hTOyxzEsGHDcHfCI0BUE2ldhRP1+c1vfkNWVhZnnXUWe/fujdBTEkGQ4jEPuACYEF4uIjS5k4gkmUhzRKR1yeDYv96pXO78palcNnMeH3zwAQMHDmTDhuoTfG7cuJEBAwYAMGDAADZu3Fht+6ZNmxgwYADnnHMO7733HkVFRQBMnjyZ/Px8OnbsSFnZiYfckOYVpHiMcPdpwBGA8KRNrWMSlYg0q2WbC2udcbTtNQQvPUbR5tAIQ6XlzvObdgMwbdo0Fi5cSH5+PgAHDx7kzjvvZObMmQDMnDmTO++8k4MHQwNl5+fns3DhQm688UZOOeUUpkyZwvTp0zly5AgAZWVlHDt2LB6pSgMFuedxPDyVrAOY2elAPVOQiEhLVBJhiG8z4/SvzObDvzzKx28+Q8opp9IqrS0Lf/ogZ555JosWLeI73/kORUVFuDszZszgiiuuAEIz1u3bt4/Pf/7zmBkdOnRg0aJFnHnmmQDMmTOH73//+2RmZtKhQwfatWvHxIkT6d69OwCHDh2iZ8/QxKJHjx7lrrvu4tZbb43Tfw2JJEjx+G9gKdDVzOYAXwNmxyQqEWlWJ5ojIrX9aZx+1adjobZvk8rVV18CwEUXXcT69etPuM+pU6cyderUiNvS0tJ44IEHKp/Oqqm8/NN/pybDhFbJIOri4e6/M7ONwH8SGhhxrLv/I2aRiUizGTu0O0vW7a116aqqWMwRIS1HkDMP3H0HsCNGsYhIgmiuOSKk5aj3hrmZrQ3/WWRmn1T5FJnZJ7EPUUTirWKOiHZpKbVmqUttZbRLS4nJHBHSckQzqu7I8J96g0fkJNIcc0RIyxHospWInFziPUeEtBxB5jDPAb4H9Ar3M8DdfXCMYhMRkQQV5Mzjd8AdwFb0foeIyEktyBvmH7j7cnd/1933VHyCHMzMxoRH5d1pZrMibP9meMTeLWb2mpkNibaviIjET5Azj3vM7DHgL1SZSdDdn42mc/jt9LnAxUABsN7Mlrv7W1WavQt8wd0/NLNLgQXAiCj7iohInAQpHpOB/kAan162ciCq4gEMB3a6+y4AM1sCXAVUFgB3f61K+zeAntH2FRGR+AlSPIa4+6BGHKsHUHV85QJgRB3tpwAvBO1rZtcD1wN069aNvLy8BoabGIqLi5VDAkiGHCA58kiGHKDl5xGkeLxhZgMacako0sD+Ecc+MLPRhIrHyKB93X0Boctd5OTkeEsfAycZxvFRDokjGfJIhhyg5ecRpHiMBCaa2buE7nkEfVS3ADirynJPoLBmIzMbDDwGXOruB4P0FRGR+AhSPMY08ljrgXPNrA+wDxgPXFO1gZllELqH8i13/98gfUVEJH6CjKob6LHcCP1LzWw6sApIAR539+1mdkN4+3zgB0BnYF54espSd885Ud/GxCMiIg1Xb/Ews7XuPtLMigjdZ7Cqf7r7qdEezN1XAitrrJtf5ft1wHXR9hURkeahgRFFRCSwaM486pzr0d0fbrpwRESkJYjmnkfFGUc/YBiwPLx8BbA6FkGJiEhii+ay1b0AZvYSkO3uReHlHwJ/jGl0IiKSkIIMjJgBHKuyfAzo3aTRiIhIixDkPY8ngXVmtjS8PBZ4oulDEhGRRBfkPY85ZvYCMIrQo7qT3X1zzCITEZGEFfVlKzNrQ2hU3XSgE3CFmf0gVoGJiEjiCnLZ6jngY2AjVebzEBGRk0+Q4tHT3Rs7vpWIiCSBIE9bvWZmjZnPQ0REkkTQIdknNWJIdhERSRJBiselMYtCRERalLgNyS4iIskjyKO6ZmbXVjyea2YZZjY8dqGJiEiiCnLDfB5wATAhvFwEzG3yiEREJOEFuecxwt2zzWwzgLt/aGatYxSXiIgksCBnHsfNLIXQ0CSY2elAeUyiEhGRhBakePw3sBToamZzgLXA/TGJSkREElqQp61+Z2Ybgf8Mr/o6oJcGRUROQvWeeZjZqWZ2l5n9/4Tm9JgX7vc88I0gBzOzMWb2tpntNLNZEbb3N7PXzeyomd1eY9tuM9tqZvlmtiHIcUVEpGlFc+bxJPAh8DpwHXAH0Bq4yt3zoz1Q+H7JXOBioABYb2bL3f2tKs3+DdxMaK6QSEa7+4FojykiIrERTfHo6+6DAMzsMeAAkFExHW0Aw4Gd7r4rvK8lwFVAZfFw9/3AfjO7POC+RUQkjqIpHscrvrh7mZm924DCAdAD2FtluQAYEaC/Ay+ZmQO/cvcFkRqZ2fXA9QDdunUjLy+vAaEmjuLiYuWQAJIhB0iOPJIhB2j5eURTPIaY2Sfh7wa0Cy9XDIx4apTHsgjrPMq+ABe6e6GZdQVeNrMd7r661g5DRWUBQE5Ojufm5gY4ROLJy8tDOTS/ZMgBkiOPZMgBWn4e9RYPd09pomMVAGdVWe4JFEbb2d0Lw3/uD8+jPhyoVTxERCT2grzn0VjrgXPNrE/4zfTxwPJoOppZupl1qPgOfAnYFrNIRUSkTkGGJ2kUdy81s+nAKiAFeNzdt5vZDeHt883sDGADcCpQbmYzgAFAF2CpmVXE/JS7vxiv2EVEpLq4FQ8Ad18JrKyxbn6V7+8TupxV0yfAkNhGJyIi0fBHIVQAAAvHSURBVIrnZSsREUkSKh4iIhKYioeIiASm4iEiIoGpeIiISGAqHiIiEpiKh4iIBKbiISIigal4iIhIYCoeIiISmIqHiIgEpuIhIiKBqXiIiEhgKh4iIhKYioeIiASm4iEiIoGpeIiISGAqHiIiEpiKh4iIBKbiISIigal41KO0tJTLL7+cLl26sG3btmrbHn74Yfr378+gQYMYMmQIt956K8ePHwfg8ccfZ9CgQQwePJjMzEyee+45ACZNmkSfPn3IysoiOzub119/vXJ/P/vZz+jfvz+ZmZkMGTKEJ554In6JiogEENfiYWZjzOxtM9tpZrMibO9vZq+b2VEzuz1I31iZOnUq/fr147nnnuPqq6+moKAAgPnz5/PSSy/xxhtvsHXrVtavX0/Xrl05fPgwBQUFzJkzh7Vr17JlyxbeeOMNBg8eXLnPhx56iPz8fB544AG++93vVu7v5ZdfZt26dWzbto3Vq1fj7vFKU0QkkNR4HcjMUoC5wMVAAbDezJa7+1tVmv0buBkY24C+jbbnYAmPrtnFss2FlBwtpeSNJfTt1IrfP3AfvTqn89hjjzFhwgRWrFjBnDlzWL16NZ06dQKgdevWzJoVqmk7d+6kQ4cOtG/fHoD27dtXfq/qoosuYufOnQDcf//9vPLKK5x66qkAdOzYkYkTJ5KXl9eUKYqINIl4nnkMB3a6+y53PwYsAa6q2sDd97v7euB40L6N9crb+xnzyBqWrNtL8dFSHDjlc+M5MOBqxjyyhlfe3s8FF1zAmjVraNWqFcXFxfTp0yfivoYMGUK3bt3o06cPkydP5vnnn4/Y7vnnn2fQoEEUFRVRVFTE2Wef3ZQpiYjETNzOPIAewN4qywXAiKbua2bXA9cDdOvWLap/ue8/VM7sVw9zrKz2ttJyp7S8jO8+sZ4fX9iOrqe0oqSkhLKyssp9r1u3jgULFlBcXMzs2bPJzMxk1qxZ7Nixg02bNnHDDTfwzDPPMGnSJN5//31uuukmZs2aRadOnZg2bRqrV6+utr+qiouLW/zZh3JIHMmQRzLkAC0/j3gWD4uwLtqL+lH3dfcFwAKAnJwcz83NrXfns5dtpdz31hlOuRtbj3XlvssygdBlpV69etGnTx9yc3OZOXMmX/7yl8nMzKTimKNHjwZgw4YNTJ48mYULF7Jw4UKuu+46vva1r1Xbf8eOHcnIyKBv377V1ufl5RFNDolMOSSOZMgjGXKAlp9HPC9bFQBnVVnuCRTGoW+9lm0upLS87jpWWu4s3byvcvmuu+5i6tSpfPTRRwC4O0eOHAGgsLCQTZs2VbbNz8+nV69ede7/rrvuYtq0aXzyyScAfPLJJyxYsKBB+YiIxFo8zzzWA+eaWR9gHzAeuCYOfetVcrQ0unbHPm03depUDh06xIgRI2jTpg3t27fnwgsvZOjQoXz00UfcfvvtFBYW0rZtW04//XTmz59f576nTp1KcXExw4YNIy0tjbS0NG677bZG5SUiEitxKx7uXmpm04FVQArwuLtvN7Mbwtvnm9kZwAbgVKDczGYAA9z9k0h9myq29DapFEdRQNJbf/qfy8y4/fbbuf3222u169ixI3/9618j7mPhwoUR15sZM2fOZObMmdXWt+RroiKSvOJ55oG7rwRW1lg3v8r39wldkoqqb1MZO7Q7S9btrfPSVWorY9zQHrE4vIhIi6M3zIHvjOpLWkrd/ynSUlpx3ajIj+aKiJxsVDyAXp3TmXdtNu3SUkhtVf3BrtRWRru0FOZdm02vzunNFKGISGJR8Qgb3a8rL84YxYThGbRvk4oZtG+TyoThGbw4YxSj+3Vt7hBFRBJGXO95JLpendO5b2wm943NbO5QREQSms48REQkMBUPEREJTMVDREQCs2SeM8LMPgD2NHccjdQFONDcQTSSckgcyZBHMuQAiZtHL3c/vb5GSV08koGZbXD3nOaOozGUQ+JIhjySIQdo+XnospWIiASm4iEiIoGpeCS+ZBiXXTkkjmTIIxlygBaeh+55iIhIYDrzEBGRwFQ8REQkMBWPZmJmY8zsbTPbaWazImz/ppltCX9eM7Mh0faNl4bmYGZnmdkrZvYPM9tuZrfEP/pqcTb4ZxHenmJmm81sRfyirhVjY/5/6mRmT5vZjvDP5IL4Rl8tzsbk8X/C/z9tM7PFZtY2vtFXxlFfDleF4883sw1mNjLavgnF3fWJ84fQbIjvAH2B1sDfCc2YWLXN54HPhL9fCrwZbd8WkMOZQHb4ewfgf5sjh8bmUWX7rcBTwIqWmAPwW+C68PfWQKeWlgfQA3gXaBde/gMwKUFzaM+n95sHAzui7ZtIH515NI/hwE533+Xux4AlwFVVG7j7a+7+YXjxDT6dYbHevnHS4Bzc/Z/uvin8vQj4B6G//M2hMT8LzKwncDnwWJzijaTBOZjZqcBFwK/D7Y65+0dxi7y6Rv0sCI0S3s7MUoFTgMI4xFxTNDkUe7haAOmAR9s3kah4NI8ewN4qywXU/ctzCvBCA/vGSmNyqGRmvYGhwJtNGFsQjc3jEWAmUN70oUWtMTn0BT4AfhO+9PaYmTXXrGcNzsPd9wE/A94D/gl87O4vxSjOukSVg5mNM7MdwJ+AbwfpmyhUPJqHRVgX8ZlpMxtN6C/JnUH7xlhjcqhY3x54Bpjh7p80eYTRaXAeZvZlYL+7b4xdeFFpzM8iFcgG/sfdhwIlQHNda2/Mz+IzhP6V3gfoDqSb2bUxirMuUeXg7kvdvT8wFrgvSN9EoeLRPAqAs6os9yTCKbaZDSZ0OeQqdz8YpG8cNCYHzCyNUOH4nbs/G+NY69KYPC4ErjSz3YQuMfyHmS2KbbgRNfb/pwJ3rzjze5pQMWkOjcnji8C77v6Bux8HniV0fyTeAv39dPfVwNlm1iVo32bX3DddTsYPoX/t7SL0r6SKG2MDa7TJAHYCnw/atwXkYMATwCMt+WdRo00uzXfDvFE5AGuAfuHvPwQeaml5ACOA7YTudRihhwBuStAczuHTG+bZwL5wzAnxdzvqXJs7gJP1A1xG6Cmjd4DvhdfdANwQ/v4Y8CGQH/5sqKtvS8oBGEnodHxLlW2XtbQ8auyj2YpHE/z/lAVsCP88lhF+mqkF5nEvsAPYBjwJtEnQHO4kVOjygdeBkXX1TdSPhicREZHAdM9DREQCU/EQEZHAVDxERCQwFQ8REQlMxUNERAJT8RARkcBUPEREJDAVDzlpmVmemV1SY90MM5tXR5/ievbZycxurLHutUj9q66v0f6HZnZ7ffE3tL1IU1DxkJPZYmB8jXXjw+sbqhNQrXi4e8Qxlk60XqQlUPGQk9nTwJfNrA1UDg/fHVhrZreGZ6TbZmYzInU2s2VmtjE8e9314dUPEBroLt/MHgq3i3i2UuMs5HvhGeT+DPSr5xgnbB/hGEPMbLWZvWVm5WbmZnZvVP91ROqQ2twBiDQXdz9oZuuAMcBzhM46fk9osLrJhAbbM+BNM/ubu2+usYtvu/u/zawdsN7MniE0nHmmu2dFG4eZnR8+9lBCfyc3ARXDvEc6Ru862lfdb9twPv/l7uvM7D6gLaHBD0UaRWcecrKreumq4pLVSGCpu5e4ezGh4b1HReh7s5n9ndCMdmcB5zYwhlHh4x3y0Lwmy+s5Rl3tq/oisMnd14WXtwCnuQa0kyag4iEnu2XAf5pZNqH5rzcReVKeaswsl9Av5wvcfQiwmdC/6huq1i/0eo4RTQHIBLZWWc4mdJYi0mgqHnJSC59Z5AGP8+mN8tXAWDM7JTwl6zhCc15U1RH40N0PmVl/4HPh9UVAh4BhrAbGmVk7M+sAXFHPMU7UvqaDwGAAM/ss8BVCk1aJNJrueYiEisazhC9fufsmM1sIVFzueSzC/Y4XgRvMbAvwNqHLShX3UV41s23AC+5+R30HDx/v94Tmd9jDp4XqRMc4UftIeV0ZjuUAMMGrzOYo0hiaz0NERALTZSsREQlMxUNERAJT8RARkcBUPEREJDAVDxERCUzFQ0REAlPxEBGRwP4fikSRAGxiAMQAAAAASUVORK5CYII=\n",
>>>>>>> master
      "text/plain": [
       "<Figure size 432x288 with 1 Axes>"
      ]
     },
     "metadata": {
      "needs_background": "light"
     },
     "output_type": "display_data"
    }
   ],
   "source": [
    "# Gráfico rendimiento esperado vs. volatilidad\n",
    "import matplotlib.pyplot as plt\n",
    "%matplotlib inline\n",
    "# Puntos a graficar\n",
    "# Ventana para graficar\n",
<<<<<<< HEAD
    "plt.figure(figsize=(6,4))\n",
    "# Graficar puntos\n",
    "plt.plot(resumen_anual['Vol'],resumen_anual['R.E'],'o',ms=10)\n",
=======
    "plt.figure(figsize=(6, 4))\n",
    "# Graficar puntos\n",
    "plt.plot(resumen_anual['Vol'], resumen_anual['R.E.'], 'o', ms=10)\n",
>>>>>>> master
    "# Etiquetas de los ejes\n",
    "plt.xlabel('Volatilidad $\\sigma$')\n",
    "plt.ylabel('Rendimiento esperado $E[r]$')\n",
    "# Etiqueta de cada instrumento\n",
    "for i in range(len(resumen_anual)):\n",
<<<<<<< HEAD
    "    plt.text(resumen_anual.iloc[i,1],resumen_anual.iloc[i,0],resumen_anual.index[i])\n",
    "\n",
=======
    "    plt.text(resumen_anual.iloc[i, 1], resumen_anual.iloc[i, 0], resumen_anual.index[i])\n",
    "    \n",
>>>>>>> master
    "plt.grid()"
   ]
  },
  {
   "cell_type": "markdown",
   "metadata": {},
   "source": [
    "### 2.1 Ajuste de curvas con mínimos cuadrados\n",
    "Consideramos que tenemos un conjunto de n pares ordenados de datos $(\\sigma_{r_i},E[r_i])$, para $i=1,2,3,\\dots,n$... **en este caso corresponden a volatilidad y rendimiento esperado**\n",
    "\n",
    "#### ¿Cuál es la recta que mejor se ajusta a estos datos?\n",
    "Consideramos entonces ajustes de la forma $\\hat{f}(\\sigma) = \\beta_0+\\beta_1 \\sigma = \\left[1 \\quad \\sigma\\right]\\left[\\begin{array}{c} \\beta_0 \\\\ \\beta_1 \\end{array}\\right]=\\left[1 \\quad \\sigma\\right]\\boldsymbol{\\beta}$ (lineas rectas).\n",
    "\n",
    "Para decir '*mejor*', tenemos que definir algún sentido en que una recta se ajuste *mejor* que otra.\n",
    "\n",
    "**Mínimos cuadrados**: el objetivo es seleccionar los coeficientes $\\boldsymbol{\\beta}=\\left[\\beta_0 \\quad \\beta_1 \\right]^T$, de forma que la función evaluada en los puntos $\\sigma_{r_i}$ ($\\hat{f}(\\sigma_{r_i})$) aproxime los valores correspondientes $E[r_i]$.\n",
    "\n",
    "La formulación por mínimos cuadrados, encuentra los $\\boldsymbol{\\beta}=\\left[\\beta_0 \\quad \\beta_1 \\right]^T$ que minimiza\n",
    "$$\\sum_{i=1}^{n}(E[r_i]-\\hat{f}(\\sigma_{r_i}))^2$$"
   ]
  },
  {
   "cell_type": "code",
<<<<<<< HEAD
   "execution_count": 54,
=======
   "execution_count": 30,
>>>>>>> master
   "metadata": {},
   "outputs": [],
   "source": [
    "# Importar el módulo optimize de la librería scipy\n",
    "from scipy.optimize import minimize"
   ]
  },
  {
   "cell_type": "code",
<<<<<<< HEAD
   "execution_count": 55,
=======
   "execution_count": 31,
>>>>>>> master
   "metadata": {},
   "outputs": [
    {
     "name": "stdout",
     "output_type": "stream",
     "text": [
      "Help on function minimize in module scipy.optimize._minimize:\n",
      "\n",
      "minimize(fun, x0, args=(), method=None, jac=None, hess=None, hessp=None, bounds=None, constraints=(), tol=None, callback=None, options=None)\n",
      "    Minimization of scalar function of one or more variables.\n",
      "    \n",
      "    Parameters\n",
      "    ----------\n",
      "    fun : callable\n",
      "        The objective function to be minimized.\n",
      "    \n",
      "            ``fun(x, *args) -> float``\n",
      "    \n",
      "        where x is an 1-D array with shape (n,) and `args`\n",
      "        is a tuple of the fixed parameters needed to completely\n",
      "        specify the function.\n",
      "    x0 : ndarray, shape (n,)\n",
      "        Initial guess. Array of real elements of size (n,),\n",
      "        where 'n' is the number of independent variables.\n",
      "    args : tuple, optional\n",
      "        Extra arguments passed to the objective function and its\n",
      "        derivatives (`fun`, `jac` and `hess` functions).\n",
      "    method : str or callable, optional\n",
      "        Type of solver.  Should be one of\n",
      "    \n",
      "            - 'Nelder-Mead' :ref:`(see here) <optimize.minimize-neldermead>`\n",
      "            - 'Powell'      :ref:`(see here) <optimize.minimize-powell>`\n",
      "            - 'CG'          :ref:`(see here) <optimize.minimize-cg>`\n",
      "            - 'BFGS'        :ref:`(see here) <optimize.minimize-bfgs>`\n",
      "            - 'Newton-CG'   :ref:`(see here) <optimize.minimize-newtoncg>`\n",
      "            - 'L-BFGS-B'    :ref:`(see here) <optimize.minimize-lbfgsb>`\n",
      "            - 'TNC'         :ref:`(see here) <optimize.minimize-tnc>`\n",
      "            - 'COBYLA'      :ref:`(see here) <optimize.minimize-cobyla>`\n",
      "            - 'SLSQP'       :ref:`(see here) <optimize.minimize-slsqp>`\n",
      "            - 'trust-constr':ref:`(see here) <optimize.minimize-trustconstr>`\n",
      "            - 'dogleg'      :ref:`(see here) <optimize.minimize-dogleg>`\n",
      "            - 'trust-ncg'   :ref:`(see here) <optimize.minimize-trustncg>`\n",
      "            - 'trust-exact' :ref:`(see here) <optimize.minimize-trustexact>`\n",
      "            - 'trust-krylov' :ref:`(see here) <optimize.minimize-trustkrylov>`\n",
      "            - custom - a callable object (added in version 0.14.0),\n",
      "              see below for description.\n",
      "    \n",
      "        If not given, chosen to be one of ``BFGS``, ``L-BFGS-B``, ``SLSQP``,\n",
      "        depending if the problem has constraints or bounds.\n",
      "    jac : {callable,  '2-point', '3-point', 'cs', bool}, optional\n",
      "        Method for computing the gradient vector. Only for CG, BFGS,\n",
      "        Newton-CG, L-BFGS-B, TNC, SLSQP, dogleg, trust-ncg, trust-krylov,\n",
      "        trust-exact and trust-constr. If it is a callable, it should be a\n",
      "        function that returns the gradient vector:\n",
      "    \n",
      "            ``jac(x, *args) -> array_like, shape (n,)``\n",
      "    \n",
      "        where x is an array with shape (n,) and `args` is a tuple with\n",
      "        the fixed parameters. Alternatively, the keywords\n",
      "        {'2-point', '3-point', 'cs'} select a finite\n",
      "        difference scheme for numerical estimation of the gradient. Options\n",
      "        '3-point' and 'cs' are available only to 'trust-constr'.\n",
      "        If `jac` is a Boolean and is True, `fun` is assumed to return the\n",
      "        gradient along with the objective function. If False, the gradient\n",
      "        will be estimated using '2-point' finite difference estimation.\n",
      "    hess : {callable, '2-point', '3-point', 'cs', HessianUpdateStrategy},  optional\n",
      "        Method for computing the Hessian matrix. Only for Newton-CG, dogleg,\n",
      "        trust-ncg,  trust-krylov, trust-exact and trust-constr. If it is\n",
      "        callable, it should return the  Hessian matrix:\n",
      "    \n",
      "            ``hess(x, *args) -> {LinearOperator, spmatrix, array}, (n, n)``\n",
      "    \n",
      "        where x is a (n,) ndarray and `args` is a tuple with the fixed\n",
      "        parameters. LinearOperator and sparse matrix returns are\n",
      "        allowed only for 'trust-constr' method. Alternatively, the keywords\n",
      "        {'2-point', '3-point', 'cs'} select a finite difference scheme\n",
      "        for numerical estimation. Or, objects implementing\n",
      "        `HessianUpdateStrategy` interface can be used to approximate\n",
      "        the Hessian. Available quasi-Newton methods implementing\n",
      "        this interface are:\n",
      "    \n",
      "            - `BFGS`;\n",
      "            - `SR1`.\n",
      "    \n",
      "        Whenever the gradient is estimated via finite-differences,\n",
      "        the Hessian cannot be estimated with options\n",
      "        {'2-point', '3-point', 'cs'} and needs to be\n",
      "        estimated using one of the quasi-Newton strategies.\n",
      "        Finite-difference options {'2-point', '3-point', 'cs'} and\n",
      "        `HessianUpdateStrategy` are available only for 'trust-constr' method.\n",
      "    hessp : callable, optional\n",
      "        Hessian of objective function times an arbitrary vector p. Only for\n",
      "        Newton-CG, trust-ncg, trust-krylov, trust-constr.\n",
      "        Only one of `hessp` or `hess` needs to be given.  If `hess` is\n",
      "        provided, then `hessp` will be ignored.  `hessp` must compute the\n",
      "        Hessian times an arbitrary vector:\n",
      "    \n",
      "            ``hessp(x, p, *args) ->  ndarray shape (n,)``\n",
      "    \n",
      "        where x is a (n,) ndarray, p is an arbitrary vector with\n",
      "        dimension (n,) and `args` is a tuple with the fixed\n",
      "        parameters.\n",
      "    bounds : sequence or `Bounds`, optional\n",
      "        Bounds on variables for L-BFGS-B, TNC, SLSQP and\n",
      "        trust-constr methods. There are two ways to specify the bounds:\n",
      "    \n",
      "            1. Instance of `Bounds` class.\n",
      "            2. Sequence of ``(min, max)`` pairs for each element in `x`. None\n",
      "               is used to specify no bound.\n",
      "    \n",
      "    constraints : {Constraint, dict} or List of {Constraint, dict}, optional\n",
      "        Constraints definition (only for COBYLA, SLSQP and trust-constr).\n",
      "        Constraints for 'trust-constr' are defined as a single object or a\n",
      "        list of objects specifying constraints to the optimization problem.\n",
      "        Available constraints are:\n",
      "    \n",
      "            - `LinearConstraint`\n",
      "            - `NonlinearConstraint`\n",
      "    \n",
      "        Constraints for COBYLA, SLSQP are defined as a list of dictionaries.\n",
      "        Each dictionary with fields:\n",
      "    \n",
      "            type : str\n",
      "                Constraint type: 'eq' for equality, 'ineq' for inequality.\n",
      "            fun : callable\n",
      "                The function defining the constraint.\n",
      "            jac : callable, optional\n",
      "                The Jacobian of `fun` (only for SLSQP).\n",
      "            args : sequence, optional\n",
      "                Extra arguments to be passed to the function and Jacobian.\n",
      "    \n",
      "        Equality constraint means that the constraint function result is to\n",
      "        be zero whereas inequality means that it is to be non-negative.\n",
      "        Note that COBYLA only supports inequality constraints.\n",
      "    tol : float, optional\n",
      "        Tolerance for termination. For detailed control, use solver-specific\n",
      "        options.\n",
      "    options : dict, optional\n",
      "        A dictionary of solver options. All methods accept the following\n",
      "        generic options:\n",
      "    \n",
      "            maxiter : int\n",
<<<<<<< HEAD
      "                Maximum number of iterations to perform.\n",
=======
      "                Maximum number of iterations to perform. Depending on the\n",
      "                method each iteration may use several function evaluations.\n",
>>>>>>> master
      "            disp : bool\n",
      "                Set to True to print convergence messages.\n",
      "    \n",
      "        For method-specific options, see :func:`show_options()`.\n",
      "    callback : callable, optional\n",
      "        Called after each iteration. For 'trust-constr' it is a callable with\n",
      "        the signature:\n",
      "    \n",
      "            ``callback(xk, OptimizeResult state) -> bool``\n",
      "    \n",
      "        where ``xk`` is the current parameter vector. and ``state``\n",
      "        is an `OptimizeResult` object, with the same fields\n",
      "        as the ones from the return.  If callback returns True\n",
      "        the algorithm execution is terminated.\n",
      "        For all the other methods, the signature is:\n",
      "    \n",
      "            ``callback(xk)``\n",
      "    \n",
      "        where ``xk`` is the current parameter vector.\n",
      "    \n",
      "    Returns\n",
      "    -------\n",
      "    res : OptimizeResult\n",
      "        The optimization result represented as a ``OptimizeResult`` object.\n",
      "        Important attributes are: ``x`` the solution array, ``success`` a\n",
      "        Boolean flag indicating if the optimizer exited successfully and\n",
      "        ``message`` which describes the cause of the termination. See\n",
      "        `OptimizeResult` for a description of other attributes.\n",
      "    \n",
      "    See also\n",
      "    --------\n",
      "    minimize_scalar : Interface to minimization algorithms for scalar\n",
      "        univariate functions\n",
      "    show_options : Additional options accepted by the solvers\n",
      "    \n",
      "    Notes\n",
      "    -----\n",
      "    This section describes the available solvers that can be selected by the\n",
      "    'method' parameter. The default method is *BFGS*.\n",
      "    \n",
      "    **Unconstrained minimization**\n",
      "    \n",
      "    Method :ref:`Nelder-Mead <optimize.minimize-neldermead>` uses the\n",
      "    Simplex algorithm [1]_, [2]_. This algorithm is robust in many\n",
      "    applications. However, if numerical computation of derivative can be\n",
      "    trusted, other algorithms using the first and/or second derivatives\n",
      "    information might be preferred for their better performance in\n",
      "    general.\n",
      "    \n",
      "    Method :ref:`Powell <optimize.minimize-powell>` is a modification\n",
      "    of Powell's method [3]_, [4]_ which is a conjugate direction\n",
      "    method. It performs sequential one-dimensional minimizations along\n",
      "    each vector of the directions set (`direc` field in `options` and\n",
      "    `info`), which is updated at each iteration of the main\n",
      "    minimization loop. The function need not be differentiable, and no\n",
      "    derivatives are taken.\n",
      "    \n",
      "    Method :ref:`CG <optimize.minimize-cg>` uses a nonlinear conjugate\n",
      "    gradient algorithm by Polak and Ribiere, a variant of the\n",
      "    Fletcher-Reeves method described in [5]_ pp.  120-122. Only the\n",
      "    first derivatives are used.\n",
      "    \n",
      "    Method :ref:`BFGS <optimize.minimize-bfgs>` uses the quasi-Newton\n",
      "    method of Broyden, Fletcher, Goldfarb, and Shanno (BFGS) [5]_\n",
      "    pp. 136. It uses the first derivatives only. BFGS has proven good\n",
      "    performance even for non-smooth optimizations. This method also\n",
      "    returns an approximation of the Hessian inverse, stored as\n",
      "    `hess_inv` in the OptimizeResult object.\n",
      "    \n",
      "    Method :ref:`Newton-CG <optimize.minimize-newtoncg>` uses a\n",
      "    Newton-CG algorithm [5]_ pp. 168 (also known as the truncated\n",
      "    Newton method). It uses a CG method to the compute the search\n",
      "    direction. See also *TNC* method for a box-constrained\n",
      "    minimization with a similar algorithm. Suitable for large-scale\n",
      "    problems.\n",
      "    \n",
      "    Method :ref:`dogleg <optimize.minimize-dogleg>` uses the dog-leg\n",
      "    trust-region algorithm [5]_ for unconstrained minimization. This\n",
      "    algorithm requires the gradient and Hessian; furthermore the\n",
      "    Hessian is required to be positive definite.\n",
      "    \n",
      "    Method :ref:`trust-ncg <optimize.minimize-trustncg>` uses the\n",
      "    Newton conjugate gradient trust-region algorithm [5]_ for\n",
      "    unconstrained minimization. This algorithm requires the gradient\n",
      "    and either the Hessian or a function that computes the product of\n",
      "    the Hessian with a given vector. Suitable for large-scale problems.\n",
      "    \n",
      "    Method :ref:`trust-krylov <optimize.minimize-trustkrylov>` uses\n",
      "    the Newton GLTR trust-region algorithm [14]_, [15]_ for unconstrained\n",
      "    minimization. This algorithm requires the gradient\n",
      "    and either the Hessian or a function that computes the product of\n",
      "    the Hessian with a given vector. Suitable for large-scale problems.\n",
      "    On indefinite problems it requires usually less iterations than the\n",
      "    `trust-ncg` method and is recommended for medium and large-scale problems.\n",
      "    \n",
      "    Method :ref:`trust-exact <optimize.minimize-trustexact>`\n",
      "    is a trust-region method for unconstrained minimization in which\n",
      "    quadratic subproblems are solved almost exactly [13]_. This\n",
      "    algorithm requires the gradient and the Hessian (which is\n",
      "    *not* required to be positive definite). It is, in many\n",
      "    situations, the Newton method to converge in fewer iteraction\n",
      "    and the most recommended for small and medium-size problems.\n",
      "    \n",
      "    **Bound-Constrained minimization**\n",
      "    \n",
      "    Method :ref:`L-BFGS-B <optimize.minimize-lbfgsb>` uses the L-BFGS-B\n",
      "    algorithm [6]_, [7]_ for bound constrained minimization.\n",
      "    \n",
      "    Method :ref:`TNC <optimize.minimize-tnc>` uses a truncated Newton\n",
      "    algorithm [5]_, [8]_ to minimize a function with variables subject\n",
      "    to bounds. This algorithm uses gradient information; it is also\n",
      "    called Newton Conjugate-Gradient. It differs from the *Newton-CG*\n",
      "    method described above as it wraps a C implementation and allows\n",
      "    each variable to be given upper and lower bounds.\n",
      "    \n",
      "    **Constrained Minimization**\n",
      "    \n",
      "    Method :ref:`COBYLA <optimize.minimize-cobyla>` uses the\n",
      "    Constrained Optimization BY Linear Approximation (COBYLA) method\n",
      "    [9]_, [10]_, [11]_. The algorithm is based on linear\n",
      "    approximations to the objective function and each constraint. The\n",
      "    method wraps a FORTRAN implementation of the algorithm. The\n",
      "    constraints functions 'fun' may return either a single number\n",
      "    or an array or list of numbers.\n",
      "    \n",
      "    Method :ref:`SLSQP <optimize.minimize-slsqp>` uses Sequential\n",
      "    Least SQuares Programming to minimize a function of several\n",
      "    variables with any combination of bounds, equality and inequality\n",
      "    constraints. The method wraps the SLSQP Optimization subroutine\n",
      "    originally implemented by Dieter Kraft [12]_. Note that the\n",
      "    wrapper handles infinite values in bounds by converting them into\n",
      "    large floating values.\n",
      "    \n",
      "    Method :ref:`trust-constr <optimize.minimize-trustconstr>` is a\n",
      "    trust-region algorithm for constrained optimization. It swiches\n",
      "    between two implementations depending on the problem definition.\n",
      "    It is the most versatile constrained minimization algorithm\n",
      "    implemented in SciPy and the most appropriate for large-scale problems.\n",
      "    For equality constrained problems it is an implementation of Byrd-Omojokun\n",
      "    Trust-Region SQP method described in [17]_ and in [5]_, p. 549. When\n",
      "    inequality constraints  are imposed as well, it swiches to the trust-region\n",
      "    interior point  method described in [16]_. This interior point algorithm,\n",
      "    in turn, solves inequality constraints by introducing slack variables\n",
      "    and solving a sequence of equality-constrained barrier problems\n",
      "    for progressively smaller values of the barrier parameter.\n",
      "    The previously described equality constrained SQP method is\n",
      "    used to solve the subproblems with increasing levels of accuracy\n",
      "    as the iterate gets closer to a solution.\n",
      "    \n",
      "    **Finite-Difference Options**\n",
      "    \n",
      "    For Method :ref:`trust-constr <optimize.minimize-trustconstr>`\n",
      "    the gradient and the Hessian may be approximated using\n",
      "    three finite-difference schemes: {'2-point', '3-point', 'cs'}.\n",
      "    The scheme 'cs' is, potentially, the most accurate but it\n",
      "    requires the function to correctly handles complex inputs and to\n",
      "    be differentiable in the complex plane. The scheme '3-point' is more\n",
      "    accurate than '2-point' but requires twice as much operations.\n",
      "    \n",
      "    **Custom minimizers**\n",
      "    \n",
      "    It may be useful to pass a custom minimization method, for example\n",
      "    when using a frontend to this method such as `scipy.optimize.basinhopping`\n",
      "    or a different library.  You can simply pass a callable as the ``method``\n",
      "    parameter.\n",
      "    \n",
      "    The callable is called as ``method(fun, x0, args, **kwargs, **options)``\n",
      "    where ``kwargs`` corresponds to any other parameters passed to `minimize`\n",
      "    (such as `callback`, `hess`, etc.), except the `options` dict, which has\n",
      "    its contents also passed as `method` parameters pair by pair.  Also, if\n",
      "    `jac` has been passed as a bool type, `jac` and `fun` are mangled so that\n",
      "    `fun` returns just the function values and `jac` is converted to a function\n",
      "    returning the Jacobian.  The method shall return an `OptimizeResult`\n",
      "    object.\n",
      "    \n",
      "    The provided `method` callable must be able to accept (and possibly ignore)\n",
      "    arbitrary parameters; the set of parameters accepted by `minimize` may\n",
      "    expand in future versions and then these parameters will be passed to\n",
      "    the method.  You can find an example in the scipy.optimize tutorial.\n",
      "    \n",
      "    .. versionadded:: 0.11.0\n",
      "    \n",
      "    References\n",
      "    ----------\n",
      "    .. [1] Nelder, J A, and R Mead. 1965. A Simplex Method for Function\n",
      "        Minimization. The Computer Journal 7: 308-13.\n",
      "    .. [2] Wright M H. 1996. Direct search methods: Once scorned, now\n",
      "        respectable, in Numerical Analysis 1995: Proceedings of the 1995\n",
      "        Dundee Biennial Conference in Numerical Analysis (Eds. D F\n",
      "        Griffiths and G A Watson). Addison Wesley Longman, Harlow, UK.\n",
      "        191-208.\n",
      "    .. [3] Powell, M J D. 1964. An efficient method for finding the minimum of\n",
      "       a function of several variables without calculating derivatives. The\n",
      "       Computer Journal 7: 155-162.\n",
      "    .. [4] Press W, S A Teukolsky, W T Vetterling and B P Flannery.\n",
      "       Numerical Recipes (any edition), Cambridge University Press.\n",
      "    .. [5] Nocedal, J, and S J Wright. 2006. Numerical Optimization.\n",
      "       Springer New York.\n",
      "    .. [6] Byrd, R H and P Lu and J. Nocedal. 1995. A Limited Memory\n",
      "       Algorithm for Bound Constrained Optimization. SIAM Journal on\n",
      "       Scientific and Statistical Computing 16 (5): 1190-1208.\n",
      "    .. [7] Zhu, C and R H Byrd and J Nocedal. 1997. L-BFGS-B: Algorithm\n",
      "       778: L-BFGS-B, FORTRAN routines for large scale bound constrained\n",
      "       optimization. ACM Transactions on Mathematical Software 23 (4):\n",
      "       550-560.\n",
      "    .. [8] Nash, S G. Newton-Type Minimization Via the Lanczos Method.\n",
      "       1984. SIAM Journal of Numerical Analysis 21: 770-778.\n",
      "    .. [9] Powell, M J D. A direct search optimization method that models\n",
      "       the objective and constraint functions by linear interpolation.\n",
      "       1994. Advances in Optimization and Numerical Analysis, eds. S. Gomez\n",
      "       and J-P Hennart, Kluwer Academic (Dordrecht), 51-67.\n",
      "    .. [10] Powell M J D. Direct search algorithms for optimization\n",
      "       calculations. 1998. Acta Numerica 7: 287-336.\n",
      "    .. [11] Powell M J D. A view of algorithms for optimization without\n",
      "       derivatives. 2007.Cambridge University Technical Report DAMTP\n",
      "       2007/NA03\n",
      "    .. [12] Kraft, D. A software package for sequential quadratic\n",
      "       programming. 1988. Tech. Rep. DFVLR-FB 88-28, DLR German Aerospace\n",
      "       Center -- Institute for Flight Mechanics, Koln, Germany.\n",
      "    .. [13] Conn, A. R., Gould, N. I., and Toint, P. L.\n",
      "       Trust region methods. 2000. Siam. pp. 169-200.\n",
      "    .. [14] F. Lenders, C. Kirches, A. Potschka: \"trlib: A vector-free\n",
      "       implementation of the GLTR method for iterative solution of\n",
      "       the trust region problem\", https://arxiv.org/abs/1611.04718\n",
      "    .. [15] N. Gould, S. Lucidi, M. Roma, P. Toint: \"Solving the\n",
      "       Trust-Region Subproblem using the Lanczos Method\",\n",
      "       SIAM J. Optim., 9(2), 504--525, (1999).\n",
      "    .. [16] Byrd, Richard H., Mary E. Hribar, and Jorge Nocedal. 1999.\n",
      "        An interior point algorithm for large-scale nonlinear  programming.\n",
      "        SIAM Journal on Optimization 9.4: 877-900.\n",
      "    .. [17] Lalee, Marucha, Jorge Nocedal, and Todd Plantega. 1998. On the\n",
      "        implementation of an algorithm for large-scale equality constrained\n",
      "        optimization. SIAM Journal on Optimization 8.3: 682-706.\n",
      "    \n",
      "    Examples\n",
      "    --------\n",
      "    Let us consider the problem of minimizing the Rosenbrock function. This\n",
      "    function (and its respective derivatives) is implemented in `rosen`\n",
      "    (resp. `rosen_der`, `rosen_hess`) in the `scipy.optimize`.\n",
      "    \n",
      "    >>> from scipy.optimize import minimize, rosen, rosen_der\n",
      "    \n",
      "    A simple application of the *Nelder-Mead* method is:\n",
      "    \n",
      "    >>> x0 = [1.3, 0.7, 0.8, 1.9, 1.2]\n",
      "    >>> res = minimize(rosen, x0, method='Nelder-Mead', tol=1e-6)\n",
      "    >>> res.x\n",
      "    array([ 1.,  1.,  1.,  1.,  1.])\n",
      "    \n",
      "    Now using the *BFGS* algorithm, using the first derivative and a few\n",
      "    options:\n",
      "    \n",
      "    >>> res = minimize(rosen, x0, method='BFGS', jac=rosen_der,\n",
      "    ...                options={'gtol': 1e-6, 'disp': True})\n",
      "    Optimization terminated successfully.\n",
      "             Current function value: 0.000000\n",
      "             Iterations: 26\n",
      "             Function evaluations: 31\n",
      "             Gradient evaluations: 31\n",
      "    >>> res.x\n",
      "    array([ 1.,  1.,  1.,  1.,  1.])\n",
      "    >>> print(res.message)\n",
      "    Optimization terminated successfully.\n",
      "    >>> res.hess_inv\n",
      "    array([[ 0.00749589,  0.01255155,  0.02396251,  0.04750988,  0.09495377],  # may vary\n",
      "           [ 0.01255155,  0.02510441,  0.04794055,  0.09502834,  0.18996269],\n",
      "           [ 0.02396251,  0.04794055,  0.09631614,  0.19092151,  0.38165151],\n",
      "           [ 0.04750988,  0.09502834,  0.19092151,  0.38341252,  0.7664427 ],\n",
      "           [ 0.09495377,  0.18996269,  0.38165151,  0.7664427,   1.53713523]])\n",
      "    \n",
      "    \n",
      "    Next, consider a minimization problem with several constraints (namely\n",
      "    Example 16.4 from [5]_). The objective function is:\n",
      "    \n",
      "    >>> fun = lambda x: (x[0] - 1)**2 + (x[1] - 2.5)**2\n",
      "    \n",
      "    There are three constraints defined as:\n",
      "    \n",
      "    >>> cons = ({'type': 'ineq', 'fun': lambda x:  x[0] - 2 * x[1] + 2},\n",
      "    ...         {'type': 'ineq', 'fun': lambda x: -x[0] - 2 * x[1] + 6},\n",
      "    ...         {'type': 'ineq', 'fun': lambda x: -x[0] + 2 * x[1] + 2})\n",
      "    \n",
      "    And variables must be positive, hence the following bounds:\n",
      "    \n",
      "    >>> bnds = ((0, None), (0, None))\n",
      "    \n",
      "    The optimization problem is solved using the SLSQP method as:\n",
      "    \n",
      "    >>> res = minimize(fun, (2, 0), method='SLSQP', bounds=bnds,\n",
      "    ...                constraints=cons)\n",
      "    \n",
      "    It should converge to the theoretical solution (1.4 ,1.7).\n",
      "\n"
     ]
    }
   ],
   "source": [
    "# Funcion minimize\n",
    "help(minimize)"
   ]
  },
  {
   "cell_type": "code",
<<<<<<< HEAD
   "execution_count": 56,
=======
   "execution_count": 32,
>>>>>>> master
   "metadata": {},
   "outputs": [],
   "source": [
    "# Funcion objetivo y condicion inicial\n",
<<<<<<< HEAD
    "def fun_obj(beta,x,y):\n",
    "    recta = beta[0] + beta[1]*x\n",
    "    return ((y-recta)**2).sum()"
=======
    "def fun_obj(beta, x, y):\n",
    "    recta = beta[0] + beta[1] * x\n",
    "    return ((y - recta)**2).sum()"
>>>>>>> master
   ]
  },
  {
   "cell_type": "code",
<<<<<<< HEAD
   "execution_count": 57,
=======
   "execution_count": 33,
>>>>>>> master
   "metadata": {},
   "outputs": [],
   "source": [
    "# Resolver problema de optimizacion\n",
<<<<<<< HEAD
    "x0 = [0,0]"
=======
    "x0 = [0, 0]"
>>>>>>> master
   ]
  },
  {
   "cell_type": "code",
<<<<<<< HEAD
   "execution_count": 58,
   "metadata": {},
   "outputs": [],
   "source": [
    "solucion = minimize(fun=fun_obj,x0=x0,args=(resumen_anual['Vol'],resumen_anual['R.E']))"
=======
   "execution_count": 34,
   "metadata": {},
   "outputs": [],
   "source": [
    "solucion = minimize(fun=fun_obj,\n",
    "                    x0=x0,\n",
    "                    args=(resumen_anual['Vol'], resumen_anual['R.E.'])\n",
    "                   )"
   ]
  },
  {
   "cell_type": "code",
   "execution_count": 35,
   "metadata": {},
   "outputs": [
    {
     "data": {
      "text/plain": [
       "      fun: 0.022631565171591202\n",
       " hess_inv: array([[  3.76058929, -13.57074466],\n",
       "       [-13.57074466,  50.08221156]])\n",
       "      jac: array([-2.32830644e-10,  1.86264515e-09])\n",
       "  message: 'Optimization terminated successfully.'\n",
       "     nfev: 28\n",
       "      nit: 3\n",
       "     njev: 7\n",
       "   status: 0\n",
       "  success: True\n",
       "        x: array([-0.27273686,  1.969436  ])"
      ]
     },
     "execution_count": 35,
     "metadata": {},
     "output_type": "execute_result"
    }
   ],
   "source": [
    "solucion"
   ]
  },
  {
   "cell_type": "code",
   "execution_count": 36,
   "metadata": {},
   "outputs": [
    {
     "data": {
      "text/plain": [
       "array([-0.27273686,  1.969436  ])"
      ]
     },
     "execution_count": 36,
     "metadata": {},
     "output_type": "execute_result"
    }
   ],
   "source": [
    "beta = solucion.x\n",
    "beta"
>>>>>>> master
   ]
  },
  {
   "cell_type": "code",
   "execution_count": 59,
   "metadata": {},
<<<<<<< HEAD
   "outputs": [
    {
     "data": {
      "text/plain": [
       "      fun: 0.02263156517158877\n",
       " hess_inv: array([[  3.7605889 , -13.57074322],\n",
       "       [-13.57074322,  50.08220627]])\n",
       "      jac: array([2.32830644e-10, 1.16415322e-09])\n",
       "  message: 'Optimization terminated successfully.'\n",
       "     nfev: 28\n",
       "      nit: 3\n",
       "     njev: 7\n",
       "   status: 0\n",
       "  success: True\n",
       "        x: array([-0.27273683,  1.96943588])"
      ]
     },
     "execution_count": 59,
     "metadata": {},
     "output_type": "execute_result"
    }
   ],
   "source": [
    "solucion"
=======
   "outputs": [],
   "source": [
    "y    = m     * x + b\n",
    "E[r] = beta1 * s + beta0"
>>>>>>> master
   ]
  },
  {
   "cell_type": "code",
<<<<<<< HEAD
   "execution_count": 60,
=======
   "execution_count": 38,
>>>>>>> master
   "metadata": {},
   "outputs": [
    {
     "data": {
      "text/plain": [
<<<<<<< HEAD
       "array([-0.27273683,  1.96943588])"
      ]
     },
     "execution_count": 60,
     "metadata": {},
     "output_type": "execute_result"
    }
   ],
   "source": [
    "beta = solucion.x\n",
    "beta"
   ]
  },
  {
   "cell_type": "code",
   "execution_count": 68,
   "metadata": {},
   "outputs": [
    {
     "data": {
      "image/png": "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\n",
=======
       "<matplotlib.legend.Legend at 0x7f6b51fd5668>"
      ]
     },
     "execution_count": 38,
     "metadata": {},
     "output_type": "execute_result"
    },
    {
     "data": {
      "image/png": "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\n",
>>>>>>> master
      "text/plain": [
       "<Figure size 432x288 with 1 Axes>"
      ]
     },
     "metadata": {
      "needs_background": "light"
     },
     "output_type": "display_data"
    }
   ],
   "source": [
<<<<<<< HEAD
    "# Gráfico rendimiento esperado vs. volatilidad\n",
    "import matplotlib.pyplot as plt\n",
    "%matplotlib inline\n",
    "# Puntos a graficar\n",
    "# Ventana para graficar\n",
    "plt.figure(figsize=(6,4))\n",
    "# Graficar puntos\n",
    "plt.plot(resumen_anual['Vol'],resumen_anual['R.E'],'o',ms=10)\n",
=======
    "# Ventana para graficar\n",
    "plt.figure(figsize=(6, 4))\n",
    "# Graficar puntos\n",
    "plt.plot(resumen_anual['Vol'], resumen_anual['R.E.'], 'o', ms=10)\n",
>>>>>>> master
    "# Etiquetas de los ejes\n",
    "plt.xlabel('Volatilidad $\\sigma$')\n",
    "plt.ylabel('Rendimiento esperado $E[r]$')\n",
    "# Etiqueta de cada instrumento\n",
    "for i in range(len(resumen_anual)):\n",
<<<<<<< HEAD
    "    plt.text(resumen_anual.iloc[i,1],resumen_anual.iloc[i,0],resumen_anual.index[i])\n",
    "\n",
    "# Gráfica de la recta ajustada\n",
    "vol = np.linspace(.1,.4)\n",
    "plt.plot(vol,beta[0] + beta[1]*vol,label=f'Recta Ajustada $E[r]=${np.round(beta[0],2)}$+${np.round(beta[1],2)}*$\\sigma$')\n",
    "plt.grid()"
=======
    "    plt.text(resumen_anual.iloc[i, 1], resumen_anual.iloc[i, 0], resumen_anual.index[i])\n",
    "    \n",
    "plt.grid()\n",
    "\n",
    "# Grafica de recta ajustada\n",
    "vol = np.linspace(0.1, 0.4)\n",
    "plt.plot(vol, beta[0] + beta[1] * vol, \n",
    "         label=f'Recta ajustada $E[r]=${np.round(beta[0], 2)}$+${np.round(beta[1], 2)}$\\sigma$')\n",
    "plt.legend(loc='best')"
   ]
  },
  {
   "cell_type": "code",
   "execution_count": 3,
   "metadata": {},
   "outputs": [
    {
     "data": {
      "text/plain": [
       "'mensaje 10.0'"
      ]
     },
     "execution_count": 3,
     "metadata": {},
     "output_type": "execute_result"
    }
   ],
   "source": [
    "'mensaje {}'.format(20 / 2)"
   ]
  },
  {
   "cell_type": "code",
   "execution_count": 2,
   "metadata": {},
   "outputs": [
    {
     "data": {
      "text/plain": [
       "'mensaje 10.0'"
      ]
     },
     "execution_count": 2,
     "metadata": {},
     "output_type": "execute_result"
    }
   ],
   "source": [
    "f'mensaje {20 / 2}'"
   ]
  },
  {
   "cell_type": "code",
   "execution_count": 40,
   "metadata": {
    "scrolled": true
   },
   "outputs": [
    {
     "name": "stdout",
     "output_type": "stream",
     "text": [
      "Help on function linspace in module numpy:\n",
      "\n",
      "linspace(start, stop, num=50, endpoint=True, retstep=False, dtype=None, axis=0)\n",
      "    Return evenly spaced numbers over a specified interval.\n",
      "    \n",
      "    Returns `num` evenly spaced samples, calculated over the\n",
      "    interval [`start`, `stop`].\n",
      "    \n",
      "    The endpoint of the interval can optionally be excluded.\n",
      "    \n",
      "    .. versionchanged:: 1.16.0\n",
      "        Non-scalar `start` and `stop` are now supported.\n",
      "    \n",
      "    Parameters\n",
      "    ----------\n",
      "    start : array_like\n",
      "        The starting value of the sequence.\n",
      "    stop : array_like\n",
      "        The end value of the sequence, unless `endpoint` is set to False.\n",
      "        In that case, the sequence consists of all but the last of ``num + 1``\n",
      "        evenly spaced samples, so that `stop` is excluded.  Note that the step\n",
      "        size changes when `endpoint` is False.\n",
      "    num : int, optional\n",
      "        Number of samples to generate. Default is 50. Must be non-negative.\n",
      "    endpoint : bool, optional\n",
      "        If True, `stop` is the last sample. Otherwise, it is not included.\n",
      "        Default is True.\n",
      "    retstep : bool, optional\n",
      "        If True, return (`samples`, `step`), where `step` is the spacing\n",
      "        between samples.\n",
      "    dtype : dtype, optional\n",
      "        The type of the output array.  If `dtype` is not given, infer the data\n",
      "        type from the other input arguments.\n",
      "    \n",
      "        .. versionadded:: 1.9.0\n",
      "    \n",
      "    axis : int, optional\n",
      "        The axis in the result to store the samples.  Relevant only if start\n",
      "        or stop are array-like.  By default (0), the samples will be along a\n",
      "        new axis inserted at the beginning. Use -1 to get an axis at the end.\n",
      "    \n",
      "        .. versionadded:: 1.16.0\n",
      "    \n",
      "    Returns\n",
      "    -------\n",
      "    samples : ndarray\n",
      "        There are `num` equally spaced samples in the closed interval\n",
      "        ``[start, stop]`` or the half-open interval ``[start, stop)``\n",
      "        (depending on whether `endpoint` is True or False).\n",
      "    step : float, optional\n",
      "        Only returned if `retstep` is True\n",
      "    \n",
      "        Size of spacing between samples.\n",
      "    \n",
      "    \n",
      "    See Also\n",
      "    --------\n",
      "    arange : Similar to `linspace`, but uses a step size (instead of the\n",
      "             number of samples).\n",
      "    geomspace : Similar to `linspace`, but with numbers spaced evenly on a log\n",
      "                scale (a geometric progression).\n",
      "    logspace : Similar to `geomspace`, but with the end points specified as\n",
      "               logarithms.\n",
      "    \n",
      "    Examples\n",
      "    --------\n",
      "    >>> np.linspace(2.0, 3.0, num=5)\n",
      "    array([2.  , 2.25, 2.5 , 2.75, 3.  ])\n",
      "    >>> np.linspace(2.0, 3.0, num=5, endpoint=False)\n",
      "    array([2. ,  2.2,  2.4,  2.6,  2.8])\n",
      "    >>> np.linspace(2.0, 3.0, num=5, retstep=True)\n",
      "    (array([2.  ,  2.25,  2.5 ,  2.75,  3.  ]), 0.25)\n",
      "    \n",
      "    Graphical illustration:\n",
      "    \n",
      "    >>> import matplotlib.pyplot as plt\n",
      "    >>> N = 8\n",
      "    >>> y = np.zeros(N)\n",
      "    >>> x1 = np.linspace(0, 10, N, endpoint=True)\n",
      "    >>> x2 = np.linspace(0, 10, N, endpoint=False)\n",
      "    >>> plt.plot(x1, y, 'o')\n",
      "    [<matplotlib.lines.Line2D object at 0x...>]\n",
      "    >>> plt.plot(x2, y + 0.5, 'o')\n",
      "    [<matplotlib.lines.Line2D object at 0x...>]\n",
      "    >>> plt.ylim([-0.5, 1])\n",
      "    (-0.5, 1)\n",
      "    >>> plt.show()\n",
      "\n"
     ]
    }
   ],
   "source": [
    "help(np.linspace)"
>>>>>>> master
   ]
  },
  {
   "cell_type": "markdown",
   "metadata": {},
   "source": [
    "**¿Qué se puede concluir acerca de la relación entre riesgo (medido con la volatilidad) y el rendimiento esperado (medido con la media)?**\n",
    "\n",
    "Respuestas:\n",
    "- Para un rendimiento esperado más alto, se necesita asumir más riesgo.\n",
    "- La relación entre rendimiento esperado y riesgo es positiva (de acuerdo a los datos)."
   ]
  },
  {
   "cell_type": "markdown",
   "metadata": {},
   "source": [
    "## 3. Comentarios finales acerca del uso de datos históricos.\n",
    "\n",
    "### ¡Cuidado!\n",
    "- Es cierto que los patrones que vemos sobre periodos largos de tiempo en diferentes tipos de intrumentos son muy robustos en términos de la relación rendimiento/riesgo (positiva).\n",
    "- Por tanto, esperamos rendimientos más altos en el futuro cuando asumimos cierto riesgo.\n",
    "- ¿Cómo encontramos ese 'rendimiento esperado' en el futuro'? Datos históricos (humanos: tendencia a generalizar)"
   ]
  },
  {
   "cell_type": "markdown",
   "metadata": {},
   "source": [
    "- Entonces, la idea es que si los rendimientos esperados son un p.e. estacionario, el promedio de muchos rendimientos pasados es una buena estimación del rendimiento esperado futuro (Teorema del límite central).\n",
    "- ¿Deberíamos pensarlo dos veces?\n",
    "\n",
    "## SI"
   ]
  },
  {
   "cell_type": "markdown",
   "metadata": {},
   "source": [
    "Problemas:\n",
    "- La muestra de datos en el periodo específico de tiempo puede estar sesgada.\n",
    "- Ventanas de tiempo más grandes reducen especificidad de la muestra y estimados más precisos.\n",
    " - Aún así, datos muy viejos pueden ser no representativos.\n",
    "- Nuevos fondos o estrategias de inversión están a menudo sesgados positivamente:\n",
    " - reporte de resultados en tiempos voluntarios;\n",
    " - las que mueren (no funcionan), no se reportan;"
   ]
  },
  {
   "cell_type": "markdown",
   "metadata": {},
   "source": [
    "# Anuncios parroquiales:\n",
    "## 1. Fin Módulo 1. Revisar que se hayan cumplido los objetivos del módulo (Clase0)\n",
    "## 2. Tarea: revisar archivo \"Tarea3_MidiendoRendimientoRiesgo\" en clase. Para viernes 05 de junio.\n",
    "## 3. Recordar quiz la siguiente clase."
   ]
  },
  {
   "cell_type": "markdown",
   "metadata": {},
   "source": [
    "<script>\n",
    "  $(document).ready(function(){\n",
    "    $('div.prompt').hide();\n",
    "    $('div.back-to-top').hide();\n",
    "    $('nav#menubar').hide();\n",
    "    $('.breadcrumb').hide();\n",
    "    $('.hidden-print').hide();\n",
    "  });\n",
    "</script>\n",
    "\n",
    "<footer id=\"attribution\" style=\"float:right; color:#808080; background:#fff;\">\n",
    "Created with Jupyter by Esteban Jiménez Rodríguez.\n",
    "</footer>"
   ]
  }
 ],
 "metadata": {
  "kernelspec": {
   "display_name": "Python 3",
   "language": "python",
   "name": "python3"
  },
  "language_info": {
   "codemirror_mode": {
    "name": "ipython",
    "version": 3
   },
   "file_extension": ".py",
   "mimetype": "text/x-python",
   "name": "python",
   "nbconvert_exporter": "python",
   "pygments_lexer": "ipython3",
   "version": "3.7.4"
  }
 },
 "nbformat": 4,
 "nbformat_minor": 2
}
