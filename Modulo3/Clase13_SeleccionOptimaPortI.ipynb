{
 "cells": [
  {
   "cell_type": "markdown",
   "metadata": {},
   "source": [
    "# Selección óptima de portafolios I\n",
    "\n",
    "<img style=\"float: right; margin: 0px 0px 15px 15px;\" src=\"https://upload.wikimedia.org/wikipedia/commons/thumb/6/6e/Separation_theorem_of_MPT.svg/2000px-Separation_theorem_of_MPT.svg.png\" width=\"400px\" height=\"400px\" />\n",
    "\n",
    "En la clase pasada vimos que:\n",
    "- La LAC describe las posibles selecciones de riesgo-rendimiento entre un activo libre de riesgo y un activo riesgoso.\n",
    "- Su pendiente es igual al radio de Sharpe del activo riesgoso.\n",
    "- La asignación óptima de capital para cualquier inversionista es el punto tangente de la curva de indiferencia del inversionista con la LAC (depende de las preferencias particulares - aversión al riesgo).\n",
    "\n",
    "Para todo lo anterior, supusimos que ya teníamos el portafolio óptimo (activo riesgoso).\n",
    "\n",
    "En el siguiente análisis:\n",
    " \n",
    "\n",
    "**Objetivos:**\n",
    "- ¿Cuál es el portafolio óptimo de activos riesgosos?\n",
    " - ¿Cuál es el mejor portafolio de activos riesgosos?\n",
    " - Es un portafolio eficiente en media-varianza.\n",
    "- Problema: dado un conjunto de activos riesgosos, ¿cómo construimos la mejor combinación?\n",
    "\n",
    "*Referencia:*\n",
    "- Notas del curso \"Portfolio Selection and Risk Management\", Rice University, disponible en Coursera.\n",
    "___ "
   ]
  },
  {
   "cell_type": "markdown",
   "metadata": {},
   "source": [
    "## 1. Maximizando el radio de Sharpe\n",
    "\n",
    "### ¿Qué pasa si tenemos dos activos riesgosos?\n",
    "\n",
    "Cuando tenemos dos o más activos riesgosos, tenemos disponibles diferentes LAC. ¿Qué significan sus pendientes?\n",
    "\n",
    "<font color=blue> Ver en el tablero.</font>\n",
    "\n",
    "Pregunta:\n",
    "- ¿Qué es lo que se quiere?"
   ]
  },
  {
   "cell_type": "markdown",
   "metadata": {},
   "source": [
    "**Conclusión:** \n",
    "- El mejor portafolio de activos no depende de las preferencias individuales, y por tanto va a ser igual para todos.\n",
    "- Dicho mejor portafolio maximiza el radio de Sharpe.\n",
    "- A este portafolio lo llamaremos el portafolio eficiente en media-varianza (EMV)"
   ]
  },
  {
   "cell_type": "markdown",
   "metadata": {},
   "source": [
    "**Idea principal: el portafolio óptimo de activos riesgosos es independiente de las preferencias del inversionista.** \n",
    "- El portafolio EMV determina el portafolio óptimo de activos riesgosos.\n",
    "- Todos tendremos el mismo portafolio de activos riesgosos (EMV), y lo combinaremos con el activo libre de reisgo de acuerdo con las preferencias de cada uno de nosotros (aversión al riesgo).\n",
    "- La LAC combinando el activo libre de riesgo y el portafolio EMV, se vuelve el conjunto de portafolios eficientes."
   ]
  },
  {
   "cell_type": "markdown",
   "metadata": {},
   "source": [
    "Entonces, se deben seguir los siguientes pasos:\n",
    "1. Crear la frontera media-varianza.\n",
    "2. Encontrar el portafolio que maximize el radio de Sharpe (portafolio EMV).\n",
    "3. Construir la frontera eficiente (LAC) del punto $(0,r_f)$ al punto $(\\sigma_s,E[r_s])$ del portafolio EMV.\n",
    "4. Combinar de acuerdo a sus preferencias.\n",
    "___"
   ]
  },
  {
   "cell_type": "markdown",
   "metadata": {},
   "source": [
    "## 2. Solución analítica del portafolio EMV: caso con dos activos.\n",
    "\n",
    "Queremos solucionar el siguiente problema:\n",
    "\n",
    "\\begin{align}\n",
    "\\max_{w_1,w_2} &\\quad \\frac{E[r_p]-r_f}{\\sigma_p}\\\\\n",
    "\\text{s.a.}    &\\quad E[r_p]=w_1E[r_1]+w_2E[r_2]\\\\\n",
    "               &\\quad \\sigma_p=\\sqrt{w_1^2\\sigma_1^2+w_2^2\\sigma_2^2+2w_1w_2\\rho_{12}\\sigma_1\\sigma_2}\\\\\n",
    "               &\\quad w_1+w_2=1, \\quad w_1,w_2\\geq0\n",
    "\\end{align}"
   ]
  },
  {
   "cell_type": "markdown",
   "metadata": {},
   "source": [
    "el cual es equivalente a\n",
    "\n",
    "\\begin{align}\n",
    "\\max_{w_1} &\\quad \\frac{w_1E[r_1]+(1-w_1)E[r_2]-r_f}{\\sqrt{w_1^2\\sigma_1^2+(1-w_1)^2\\sigma_2^2+2w_1(1-w_1)\\rho_{12}\\sigma_1\\sigma_2}}\\\\\n",
    "\\text{s.a.}    &\\quad 0\\leq w_1\\leq1\n",
    "\\end{align}"
   ]
  },
  {
   "cell_type": "markdown",
   "metadata": {},
   "source": [
    "**Actividad.**\n",
    "El anterior es un problema de maximizar una función de una variable en un dominio cerrado. No debaría representar dificultad.\n",
    "\n",
    "Encontrar la solución analítica a este problema.\n",
    "\n",
    "Quien primero lo haga, y salga a explicarlo al tablero, le subo alguna tarea o quiz a 100.\n",
    "\n",
    "Deben llegar a:\n",
    "\n",
    "$$w_{1,EMV}=\\frac{(E[r_1]-r_f)\\sigma_2^2-(E[r_2]-r_f)\\sigma_{12}}{(E[r_2]-r_f)\\sigma_1^2+(E[r_1]-r_f)\\sigma_2^2-((E[r_1]-r_f)+(E[r_2]-r_f))\\sigma_{12}}.$$"
   ]
  },
  {
   "cell_type": "markdown",
   "metadata": {},
   "source": [
    "Si nadie lo ha hecho en 30 min., procederé a hacerlo yo.\n",
    "\n",
    "**Nota:** \n",
    "- así como obtuvimos una expresión para el peso del portafolio de mínima varianza con dos activos, obtenemos una expresión para el peso del portafolio Eficiente en Media-Varianza. \n",
    "- Estas actividades son sin duda un buen ejercicio, y se pueden replicar usando técnicas de varias variables (multiplicadores de Lagrange) cuando se tengan más de dos activos.\n",
    "- Sin embargo, la complejidad del problema crece considerablemente con el número de variables, y la solución analítica deja de ser viable cuando mencionamos que un portafolio bien diversificado consta aproximadamente de 50-60 activos.\n",
    "- En esos casos, este problema se soluciona con rutinas numéricas que hagan la optimización por nosotros.\n",
    "- Por eso, les enseño cómo resolver este problema con optimizadores numéricos, porque son una solución viable y escalable a más variables."
   ]
  },
  {
   "cell_type": "markdown",
   "metadata": {},
   "source": [
    "## 3. Ejemplo ilustrativo.\n",
    "\n",
    "Retomamos el ejemplo de mercados de acciones en los países integrantes del $G5$: EU, RU, Francia, Alemania y Japón."
   ]
  },
  {
   "cell_type": "code",
   "execution_count": 1,
   "metadata": {},
   "outputs": [],
   "source": [
    "# Importamos pandas y numpy\n",
    "import pandas as pd\n",
    "import numpy as np"
   ]
  },
  {
   "cell_type": "code",
   "execution_count": 2,
   "metadata": {},
   "outputs": [
    {
     "data": {
      "text/html": [
       "<div>\n",
       "<style scoped>\n",
       "    .dataframe tbody tr th:only-of-type {\n",
       "        vertical-align: middle;\n",
       "    }\n",
       "\n",
       "    .dataframe tbody tr th {\n",
       "        vertical-align: top;\n",
       "    }\n",
       "\n",
       "    .dataframe thead th {\n",
       "        text-align: right;\n",
       "    }\n",
       "</style>\n",
       "<table border=\"1\" class=\"dataframe\">\n",
       "  <thead>\n",
       "    <tr style=\"text-align: right;\">\n",
       "      <th></th>\n",
       "      <th>EU</th>\n",
       "      <th>RU</th>\n",
       "      <th>Francia</th>\n",
       "      <th>Alemania</th>\n",
       "      <th>Japon</th>\n",
       "    </tr>\n",
       "  </thead>\n",
       "  <tbody>\n",
       "    <tr>\n",
       "      <td>Media</td>\n",
       "      <td>0.1355</td>\n",
       "      <td>0.1589</td>\n",
       "      <td>0.1519</td>\n",
       "      <td>0.1435</td>\n",
       "      <td>0.1497</td>\n",
       "    </tr>\n",
       "    <tr>\n",
       "      <td>Volatilidad</td>\n",
       "      <td>0.1535</td>\n",
       "      <td>0.243</td>\n",
       "      <td>0.2324</td>\n",
       "      <td>0.2038</td>\n",
       "      <td>0.2298</td>\n",
       "    </tr>\n",
       "  </tbody>\n",
       "</table>\n",
       "</div>"
      ],
      "text/plain": [
       "                 EU      RU Francia Alemania   Japon\n",
       "Media        0.1355  0.1589  0.1519   0.1435  0.1497\n",
       "Volatilidad  0.1535   0.243  0.2324   0.2038  0.2298"
      ]
     },
     "execution_count": 2,
     "metadata": {},
     "output_type": "execute_result"
    }
   ],
   "source": [
    "# Resumen en base anual de rendimientos esperados y volatilidades\n",
    "annual_ret_summ = pd.DataFrame(columns=['EU', 'RU', 'Francia', 'Alemania', 'Japon'], index=['Media', 'Volatilidad'])\n",
    "annual_ret_summ.loc['Media'] = np.array([0.1355, 0.1589, 0.1519, 0.1435, 0.1497])\n",
    "annual_ret_summ.loc['Volatilidad'] = np.array([0.1535, 0.2430, 0.2324, 0.2038, 0.2298])\n",
    "\n",
    "annual_ret_summ.round(4)"
   ]
  },
  {
   "cell_type": "code",
   "execution_count": 3,
   "metadata": {},
   "outputs": [
    {
     "data": {
      "text/html": [
       "<div>\n",
       "<style scoped>\n",
       "    .dataframe tbody tr th:only-of-type {\n",
       "        vertical-align: middle;\n",
       "    }\n",
       "\n",
       "    .dataframe tbody tr th {\n",
       "        vertical-align: top;\n",
       "    }\n",
       "\n",
       "    .dataframe thead th {\n",
       "        text-align: right;\n",
       "    }\n",
       "</style>\n",
       "<table border=\"1\" class=\"dataframe\">\n",
       "  <thead>\n",
       "    <tr style=\"text-align: right;\">\n",
       "      <th></th>\n",
       "      <th>EU</th>\n",
       "      <th>RU</th>\n",
       "      <th>Francia</th>\n",
       "      <th>Alemania</th>\n",
       "      <th>Japon</th>\n",
       "    </tr>\n",
       "  </thead>\n",
       "  <tbody>\n",
       "    <tr>\n",
       "      <td>EU</td>\n",
       "      <td>1.0000</td>\n",
       "      <td>0.5003</td>\n",
       "      <td>0.4398</td>\n",
       "      <td>0.3681</td>\n",
       "      <td>0.2663</td>\n",
       "    </tr>\n",
       "    <tr>\n",
       "      <td>RU</td>\n",
       "      <td>0.5003</td>\n",
       "      <td>1.0000</td>\n",
       "      <td>0.5420</td>\n",
       "      <td>0.4265</td>\n",
       "      <td>0.3581</td>\n",
       "    </tr>\n",
       "    <tr>\n",
       "      <td>Francia</td>\n",
       "      <td>0.4398</td>\n",
       "      <td>0.5420</td>\n",
       "      <td>1.0000</td>\n",
       "      <td>0.6032</td>\n",
       "      <td>0.3923</td>\n",
       "    </tr>\n",
       "    <tr>\n",
       "      <td>Alemania</td>\n",
       "      <td>0.3681</td>\n",
       "      <td>0.4265</td>\n",
       "      <td>0.6032</td>\n",
       "      <td>1.0000</td>\n",
       "      <td>0.3663</td>\n",
       "    </tr>\n",
       "    <tr>\n",
       "      <td>Japon</td>\n",
       "      <td>0.2663</td>\n",
       "      <td>0.3581</td>\n",
       "      <td>0.3923</td>\n",
       "      <td>0.3663</td>\n",
       "      <td>1.0000</td>\n",
       "    </tr>\n",
       "  </tbody>\n",
       "</table>\n",
       "</div>"
      ],
      "text/plain": [
       "              EU      RU  Francia  Alemania   Japon\n",
       "EU        1.0000  0.5003   0.4398    0.3681  0.2663\n",
       "RU        0.5003  1.0000   0.5420    0.4265  0.3581\n",
       "Francia   0.4398  0.5420   1.0000    0.6032  0.3923\n",
       "Alemania  0.3681  0.4265   0.6032    1.0000  0.3663\n",
       "Japon     0.2663  0.3581   0.3923    0.3663  1.0000"
      ]
     },
     "execution_count": 3,
     "metadata": {},
     "output_type": "execute_result"
    }
   ],
   "source": [
    "# Matriz de correlación\n",
    "corr = pd.DataFrame(data= np.array([[1.0000, 0.5003, 0.4398, 0.3681, 0.2663],\n",
    "                                    [0.5003, 1.0000, 0.5420, 0.4265, 0.3581],\n",
    "                                    [0.4398, 0.5420, 1.0000, 0.6032, 0.3923],\n",
    "                                    [0.3681, 0.4265, 0.6032, 1.0000, 0.3663],\n",
    "                                    [0.2663, 0.3581, 0.3923, 0.3663, 1.0000]]),\n",
    "                    columns=annual_ret_summ.columns, index=annual_ret_summ.columns)\n",
    "corr.round(4)"
   ]
  },
  {
   "cell_type": "markdown",
   "metadata": {},
   "source": [
    "Supondremos, además, que la tasa libre de riesgo es $r_f=5\\%$."
   ]
  },
  {
   "cell_type": "code",
   "execution_count": 4,
   "metadata": {},
   "outputs": [],
   "source": [
    "# Tasa libre de riesgo\n",
    "rf = 0.05"
   ]
  },
  {
   "cell_type": "markdown",
   "metadata": {},
   "source": [
    "Entonces, supondremos que tenemos disponibles los activos correspondientes a los mercados de acciones de EU y Japón, y en adición el activo libre de riesgo."
   ]
  },
  {
   "cell_type": "markdown",
   "metadata": {},
   "source": [
    "#### 1. Construir la frontera de mínima varianza"
   ]
  },
  {
   "cell_type": "code",
   "execution_count": 6,
   "metadata": {},
   "outputs": [],
   "source": [
    "# Vector de w variando entre 0 y 1 con n pasos\n",
    "N = 101\n",
    "w = np.linspace(0,1,N)\n",
    "# Rendimientos esperados individuales\n",
    "# Activo1: EU, Activo2:Japon\n",
    "E1 = annual_ret_summ.loc['Media','EU']\n",
    "E2 = annual_ret_summ.loc['Media','Japon']\n",
    "# Volatilidades individuales\n",
    "s1 = annual_ret_summ.loc['Volatilidad','EU']\n",
    "s2 = annual_ret_summ.loc['Volatilidad','Japon']\n",
    "# Correlacion\n",
    "r12 = corr.loc['EU','Japon']\n",
    "# Covarianza\n",
    "s12 = s1 * s2 * r12"
   ]
  },
  {
   "cell_type": "code",
   "execution_count": 10,
   "metadata": {},
   "outputs": [
    {
     "data": {
      "text/html": [
       "<div>\n",
       "<style scoped>\n",
       "    .dataframe tbody tr th:only-of-type {\n",
       "        vertical-align: middle;\n",
       "    }\n",
       "\n",
       "    .dataframe tbody tr th {\n",
       "        vertical-align: top;\n",
       "    }\n",
       "\n",
       "    .dataframe thead th {\n",
       "        text-align: right;\n",
       "    }\n",
       "</style>\n",
       "<table border=\"1\" class=\"dataframe\">\n",
       "  <thead>\n",
       "    <tr style=\"text-align: right;\">\n",
       "      <th></th>\n",
       "      <th>w</th>\n",
       "      <th>1-w</th>\n",
       "      <th>Media</th>\n",
       "      <th>Volatilidad</th>\n",
       "      <th>RS</th>\n",
       "    </tr>\n",
       "  </thead>\n",
       "  <tbody>\n",
       "    <tr>\n",
       "      <td>0</td>\n",
       "      <td>0.00</td>\n",
       "      <td>1.00</td>\n",
       "      <td>0.149700</td>\n",
       "      <td>0.229800</td>\n",
       "      <td>0.433856</td>\n",
       "    </tr>\n",
       "    <tr>\n",
       "      <td>1</td>\n",
       "      <td>0.01</td>\n",
       "      <td>0.99</td>\n",
       "      <td>0.149558</td>\n",
       "      <td>0.227916</td>\n",
       "      <td>0.436820</td>\n",
       "    </tr>\n",
       "    <tr>\n",
       "      <td>2</td>\n",
       "      <td>0.02</td>\n",
       "      <td>0.98</td>\n",
       "      <td>0.149416</td>\n",
       "      <td>0.226041</td>\n",
       "      <td>0.439814</td>\n",
       "    </tr>\n",
       "    <tr>\n",
       "      <td>3</td>\n",
       "      <td>0.03</td>\n",
       "      <td>0.97</td>\n",
       "      <td>0.149274</td>\n",
       "      <td>0.224176</td>\n",
       "      <td>0.442839</td>\n",
       "    </tr>\n",
       "    <tr>\n",
       "      <td>4</td>\n",
       "      <td>0.04</td>\n",
       "      <td>0.96</td>\n",
       "      <td>0.149132</td>\n",
       "      <td>0.222322</td>\n",
       "      <td>0.445894</td>\n",
       "    </tr>\n",
       "  </tbody>\n",
       "</table>\n",
       "</div>"
      ],
      "text/plain": [
       "      w   1-w     Media  Volatilidad        RS\n",
       "0  0.00  1.00  0.149700     0.229800  0.433856\n",
       "1  0.01  0.99  0.149558     0.227916  0.436820\n",
       "2  0.02  0.98  0.149416     0.226041  0.439814\n",
       "3  0.03  0.97  0.149274     0.224176  0.442839\n",
       "4  0.04  0.96  0.149132     0.222322  0.445894"
      ]
     },
     "execution_count": 10,
     "metadata": {},
     "output_type": "execute_result"
    }
   ],
   "source": [
    "# DataFrame de portafolios: \n",
    "# 1. Índice: i\n",
    "# 2. Columnas 1-2: w, 1-w\n",
    "# 3. Columnas 3-4: E[r], sigma\n",
    "# 4. Columna 5: Sharpe ratio\n",
    "portafolios = pd.DataFrame({'w': w,\n",
    "                           '1-w': 1-w,\n",
    "                           'Media': w*E1 + (1-w)*E2,\n",
    "                           'Volatilidad': ((w * s1)**2 + ((1-w)*s2)**2 + 2*w*(1-w)*s12)**0.5})\n",
    "portafolios['RS'] = (portafolios['Media'] - rf)/portafolios['Volatilidad']\n",
    "portafolios.head()"
   ]
  },
  {
   "cell_type": "code",
   "execution_count": 11,
   "metadata": {},
   "outputs": [],
   "source": [
    "# Importar librerías de gráficos\n",
    "import matplotlib.pyplot as plt\n",
    "%matplotlib inline"
   ]
  },
  {
   "cell_type": "code",
   "execution_count": 14,
   "metadata": {},
   "outputs": [
    {
     "data": {
      "text/plain": [
       "<matplotlib.colorbar.Colorbar at 0x1fa2a93afc8>"
      ]
     },
     "execution_count": 14,
     "metadata": {},
     "output_type": "execute_result"
    },
    {
     "data": {
      "image/png": "[encoded data removed]",
      "text/plain": [
       "<Figure size 864x576 with 2 Axes>"
      ]
     },
     "metadata": {
      "needs_background": "light"
     },
     "output_type": "display_data"
    }
   ],
   "source": [
    "# Gráfica de dispersión de puntos coloreando de acuerdo a SR\n",
    "plt.figure(figsize = (12,8))\n",
    "plt.scatter(portafolios['Volatilidad'],portafolios['Media'], c=portafolios['RS'], cmap='inferno')\n",
    "plt.plot(s1,E1,'bo', ms=10, label='EU')\n",
    "plt.plot(s2,E2,'ro', ms=10, label='Japón')\n",
    "plt.xlabel('Volatilidad $\\sigma$')\n",
    "plt.ylabel('Rendimiento esperado $E[r]$')\n",
    "plt.grid()\n",
    "plt.legend(loc='best')\n",
    "plt.colorbar()"
   ]
  },
  {
   "cell_type": "markdown",
   "metadata": {},
   "source": [
    "#### 2. Encontrar el portafolio que maximiza el radio de Sharpe (EMV)"
   ]
  },
  {
   "cell_type": "markdown",
   "metadata": {},
   "source": [
    "Primero, encontramos este portafolio con la fórmula que obtuvimos:\n",
    "\n",
    "$$w_{1,EMV}=\\frac{(E[r_1]-r_f)\\sigma_2^2-(E[r_2]-r_f)\\sigma_{12}}{(E[r_2]-r_f)\\sigma_1^2+(E[r_1]-r_f)\\sigma_2^2-((E[r_1]-r_f)+(E[r_2]-r_f))\\sigma_{12}}.$$"
   ]
  },
  {
   "cell_type": "code",
   "execution_count": 20,
   "metadata": {},
   "outputs": [
    {
     "data": {
      "text/plain": [
       "0.6983139170512034"
      ]
     },
     "execution_count": 20,
     "metadata": {},
     "output_type": "execute_result"
    }
   ],
   "source": [
    "# Fórmula que obtuvimos\n",
    "w_EMV = ((E1-rf)*s2**2 - (E2-rf)*s12) / ((E2-rf)*s1**2 + (E1-rf)*s2**2 - (E1-rf + E2-rf)*s12)\n",
    "w_EMV"
   ]
  },
  {
   "cell_type": "markdown",
   "metadata": {},
   "source": [
    "Ahora sí, con la función scipy.optimize.minimize"
   ]
  },
  {
   "cell_type": "code",
   "execution_count": 21,
   "metadata": {},
   "outputs": [],
   "source": [
    "# Importar el módulo optimize\n",
    "from scipy.optimize import minimize"
   ]
  },
  {
   "cell_type": "code",
   "execution_count": 25,
   "metadata": {},
   "outputs": [],
   "source": [
    "# Función objetivo (-SR)\n",
    "def menos_RS(w, rf, E1, E2, s1, s2, s12):\n",
    "    Erp = w*E1 + (1-w)*E2\n",
    "    sp = ((w*s1)**2 + ((1-w)*s2)**2 + 2*w*(1-w)*s12)**0.5\n",
    "    RS = (Erp - rf) / sp\n",
    "    return -RS"
   ]
  },
  {
   "cell_type": "code",
   "execution_count": 26,
   "metadata": {},
   "outputs": [],
   "source": [
    "# Dato inicial\n",
    "w0 = .5\n",
    "# Cotas de las variables\n",
    "bnd = ((0,1),)"
   ]
  },
  {
   "cell_type": "code",
   "execution_count": 27,
   "metadata": {},
   "outputs": [
    {
     "data": {
      "text/plain": [
       "      fun: array([-0.63087253])\n",
       " hess_inv: <1x1 LbfgsInvHessProduct with dtype=float64>\n",
       "      jac: array([3.39728246e-06])\n",
       "  message: b'CONVERGENCE: NORM_OF_PROJECTED_GRADIENT_<=_PGTOL'\n",
       "     nfev: 10\n",
       "      nit: 4\n",
       "   status: 0\n",
       "  success: True\n",
       "        x: array([0.69831582])"
      ]
     },
     "execution_count": 27,
     "metadata": {},
     "output_type": "execute_result"
    }
   ],
   "source": [
    "# Optimización numérica\n",
    "res = minimize(fun=menos_RS,\n",
    "              x0 = w0,\n",
    "              args = (rf, E1, E2, s1, s2, s12),\n",
    "               bounds = bnd)\n",
    "# Resultado\n",
    "res"
   ]
  },
  {
   "cell_type": "code",
   "execution_count": 29,
   "metadata": {},
   "outputs": [
    {
     "data": {
      "text/plain": [
       "(0.6983139170512034, array([0.69831582]))"
      ]
     },
     "execution_count": 29,
     "metadata": {},
     "output_type": "execute_result"
    }
   ],
   "source": [
    "w_EMV, res.x"
   ]
  },
  {
   "cell_type": "markdown",
   "metadata": {},
   "source": [
    "Con lo anterior, podemos obtener datos de rendimiento esperado y volatilidad del portafolio EMV"
   ]
  },
  {
   "cell_type": "code",
   "execution_count": 30,
   "metadata": {},
   "outputs": [],
   "source": [
    "# Rendimiento esperado y volatilidad del portafolio EMV\n",
    "E_EMV = w_EMV*E1+(1-w_EMV)*E2\n",
    "s_EMV = ((w_EMV*s1)**2 + ((1-w_EMV)*s2)**2 + 2*w_EMV*(1-w_EMV)*s12)**0.5"
   ]
  },
  {
   "cell_type": "code",
   "execution_count": 31,
   "metadata": {},
   "outputs": [
    {
     "data": {
      "text/plain": [
       "(0.13978394237787292, 0.14231708951606933)"
      ]
     },
     "execution_count": 31,
     "metadata": {},
     "output_type": "execute_result"
    }
   ],
   "source": [
    "E_EMV, s_EMV"
   ]
  },
  {
   "cell_type": "code",
   "execution_count": 32,
   "metadata": {},
   "outputs": [
    {
     "data": {
      "text/plain": [
       "<matplotlib.colorbar.Colorbar at 0x1fa2b2c8a48>"
      ]
     },
     "execution_count": 32,
     "metadata": {},
     "output_type": "execute_result"
    },
    {
     "data": {
      "image/png": "[encoded data removed]",
      "text/plain": [
       "<Figure size 864x576 with 2 Axes>"
      ]
     },
     "metadata": {
      "needs_background": "light"
     },
     "output_type": "display_data"
    }
   ],
   "source": [
    "# Gráfica de dispersión de puntos coloreando de acuerdo a SR, y portafolio EMV\n",
    "plt.figure(figsize = (12,8))\n",
    "plt.scatter(portafolios['Volatilidad'],portafolios['Media'], c=portafolios['RS'], cmap='inferno')\n",
    "plt.plot(s_EMV, E_EMV, 'g*', ms=10, label='Port.EMV')\n",
    "plt.plot(s1,E1,'bo', ms=10, label='EU')\n",
    "plt.plot(s2,E2,'ro', ms=10, label='Japón')\n",
    "plt.xlabel('Volatilidad $\\sigma$')\n",
    "plt.ylabel('Rendimiento esperado $E[r]$')\n",
    "plt.grid()\n",
    "plt.legend(loc='best')\n",
    "plt.colorbar()"
   ]
  },
  {
   "cell_type": "markdown",
   "metadata": {},
   "source": [
    "#### 3. Construir LAC"
   ]
  },
  {
   "cell_type": "markdown",
   "metadata": {},
   "source": [
    "Ahora, dibujamos la LAC, combinando el portafolio EMV con el activo libre de riesgo:"
   ]
  },
  {
   "cell_type": "code",
   "execution_count": 34,
   "metadata": {},
   "outputs": [],
   "source": [
    "# Vector de wp variando entre 0 y 1.5 con n pasos\n",
    "wp = np.linspace(0,1.5)"
   ]
  },
  {
   "cell_type": "code",
   "execution_count": 35,
   "metadata": {},
   "outputs": [
    {
     "data": {
      "text/html": [
       "<div>\n",
       "<style scoped>\n",
       "    .dataframe tbody tr th:only-of-type {\n",
       "        vertical-align: middle;\n",
       "    }\n",
       "\n",
       "    .dataframe tbody tr th {\n",
       "        vertical-align: top;\n",
       "    }\n",
       "\n",
       "    .dataframe thead th {\n",
       "        text-align: right;\n",
       "    }\n",
       "</style>\n",
       "<table border=\"1\" class=\"dataframe\">\n",
       "  <thead>\n",
       "    <tr style=\"text-align: right;\">\n",
       "      <th></th>\n",
       "      <th>w_EMV</th>\n",
       "      <th>w(rf)</th>\n",
       "      <th>Media</th>\n",
       "      <th>Vol</th>\n",
       "      <th>RS</th>\n",
       "    </tr>\n",
       "  </thead>\n",
       "  <tbody>\n",
       "    <tr>\n",
       "      <td>0</td>\n",
       "      <td>0.000000</td>\n",
       "      <td>1.000000</td>\n",
       "      <td>0.050000</td>\n",
       "      <td>0.000000</td>\n",
       "      <td>NaN</td>\n",
       "    </tr>\n",
       "    <tr>\n",
       "      <td>1</td>\n",
       "      <td>0.030612</td>\n",
       "      <td>0.969388</td>\n",
       "      <td>0.052748</td>\n",
       "      <td>0.004357</td>\n",
       "      <td>0.630873</td>\n",
       "    </tr>\n",
       "    <tr>\n",
       "      <td>2</td>\n",
       "      <td>0.061224</td>\n",
       "      <td>0.938776</td>\n",
       "      <td>0.055497</td>\n",
       "      <td>0.008713</td>\n",
       "      <td>0.630873</td>\n",
       "    </tr>\n",
       "    <tr>\n",
       "      <td>3</td>\n",
       "      <td>0.091837</td>\n",
       "      <td>0.908163</td>\n",
       "      <td>0.058245</td>\n",
       "      <td>0.013070</td>\n",
       "      <td>0.630873</td>\n",
       "    </tr>\n",
       "    <tr>\n",
       "      <td>4</td>\n",
       "      <td>0.122449</td>\n",
       "      <td>0.877551</td>\n",
       "      <td>0.060994</td>\n",
       "      <td>0.017427</td>\n",
       "      <td>0.630873</td>\n",
       "    </tr>\n",
       "    <tr>\n",
       "      <td>5</td>\n",
       "      <td>0.153061</td>\n",
       "      <td>0.846939</td>\n",
       "      <td>0.063742</td>\n",
       "      <td>0.021783</td>\n",
       "      <td>0.630873</td>\n",
       "    </tr>\n",
       "    <tr>\n",
       "      <td>6</td>\n",
       "      <td>0.183673</td>\n",
       "      <td>0.816327</td>\n",
       "      <td>0.066491</td>\n",
       "      <td>0.026140</td>\n",
       "      <td>0.630873</td>\n",
       "    </tr>\n",
       "    <tr>\n",
       "      <td>7</td>\n",
       "      <td>0.214286</td>\n",
       "      <td>0.785714</td>\n",
       "      <td>0.069239</td>\n",
       "      <td>0.030497</td>\n",
       "      <td>0.630873</td>\n",
       "    </tr>\n",
       "    <tr>\n",
       "      <td>8</td>\n",
       "      <td>0.244898</td>\n",
       "      <td>0.755102</td>\n",
       "      <td>0.071988</td>\n",
       "      <td>0.034853</td>\n",
       "      <td>0.630873</td>\n",
       "    </tr>\n",
       "    <tr>\n",
       "      <td>9</td>\n",
       "      <td>0.275510</td>\n",
       "      <td>0.724490</td>\n",
       "      <td>0.074736</td>\n",
       "      <td>0.039210</td>\n",
       "      <td>0.630873</td>\n",
       "    </tr>\n",
       "    <tr>\n",
       "      <td>10</td>\n",
       "      <td>0.306122</td>\n",
       "      <td>0.693878</td>\n",
       "      <td>0.077485</td>\n",
       "      <td>0.043566</td>\n",
       "      <td>0.630873</td>\n",
       "    </tr>\n",
       "    <tr>\n",
       "      <td>11</td>\n",
       "      <td>0.336735</td>\n",
       "      <td>0.663265</td>\n",
       "      <td>0.080233</td>\n",
       "      <td>0.047923</td>\n",
       "      <td>0.630873</td>\n",
       "    </tr>\n",
       "    <tr>\n",
       "      <td>12</td>\n",
       "      <td>0.367347</td>\n",
       "      <td>0.632653</td>\n",
       "      <td>0.082982</td>\n",
       "      <td>0.052280</td>\n",
       "      <td>0.630873</td>\n",
       "    </tr>\n",
       "    <tr>\n",
       "      <td>13</td>\n",
       "      <td>0.397959</td>\n",
       "      <td>0.602041</td>\n",
       "      <td>0.085730</td>\n",
       "      <td>0.056636</td>\n",
       "      <td>0.630873</td>\n",
       "    </tr>\n",
       "    <tr>\n",
       "      <td>14</td>\n",
       "      <td>0.428571</td>\n",
       "      <td>0.571429</td>\n",
       "      <td>0.088479</td>\n",
       "      <td>0.060993</td>\n",
       "      <td>0.630873</td>\n",
       "    </tr>\n",
       "    <tr>\n",
       "      <td>15</td>\n",
       "      <td>0.459184</td>\n",
       "      <td>0.540816</td>\n",
       "      <td>0.091227</td>\n",
       "      <td>0.065350</td>\n",
       "      <td>0.630873</td>\n",
       "    </tr>\n",
       "    <tr>\n",
       "      <td>16</td>\n",
       "      <td>0.489796</td>\n",
       "      <td>0.510204</td>\n",
       "      <td>0.093976</td>\n",
       "      <td>0.069706</td>\n",
       "      <td>0.630873</td>\n",
       "    </tr>\n",
       "    <tr>\n",
       "      <td>17</td>\n",
       "      <td>0.520408</td>\n",
       "      <td>0.479592</td>\n",
       "      <td>0.096724</td>\n",
       "      <td>0.074063</td>\n",
       "      <td>0.630873</td>\n",
       "    </tr>\n",
       "    <tr>\n",
       "      <td>18</td>\n",
       "      <td>0.551020</td>\n",
       "      <td>0.448980</td>\n",
       "      <td>0.099473</td>\n",
       "      <td>0.078420</td>\n",
       "      <td>0.630873</td>\n",
       "    </tr>\n",
       "    <tr>\n",
       "      <td>19</td>\n",
       "      <td>0.581633</td>\n",
       "      <td>0.418367</td>\n",
       "      <td>0.102221</td>\n",
       "      <td>0.082776</td>\n",
       "      <td>0.630873</td>\n",
       "    </tr>\n",
       "    <tr>\n",
       "      <td>20</td>\n",
       "      <td>0.612245</td>\n",
       "      <td>0.387755</td>\n",
       "      <td>0.104970</td>\n",
       "      <td>0.087133</td>\n",
       "      <td>0.630873</td>\n",
       "    </tr>\n",
       "    <tr>\n",
       "      <td>21</td>\n",
       "      <td>0.642857</td>\n",
       "      <td>0.357143</td>\n",
       "      <td>0.107718</td>\n",
       "      <td>0.091490</td>\n",
       "      <td>0.630873</td>\n",
       "    </tr>\n",
       "    <tr>\n",
       "      <td>22</td>\n",
       "      <td>0.673469</td>\n",
       "      <td>0.326531</td>\n",
       "      <td>0.110467</td>\n",
       "      <td>0.095846</td>\n",
       "      <td>0.630873</td>\n",
       "    </tr>\n",
       "    <tr>\n",
       "      <td>23</td>\n",
       "      <td>0.704082</td>\n",
       "      <td>0.295918</td>\n",
       "      <td>0.113215</td>\n",
       "      <td>0.100203</td>\n",
       "      <td>0.630873</td>\n",
       "    </tr>\n",
       "    <tr>\n",
       "      <td>24</td>\n",
       "      <td>0.734694</td>\n",
       "      <td>0.265306</td>\n",
       "      <td>0.115964</td>\n",
       "      <td>0.104559</td>\n",
       "      <td>0.630873</td>\n",
       "    </tr>\n",
       "    <tr>\n",
       "      <td>25</td>\n",
       "      <td>0.765306</td>\n",
       "      <td>0.234694</td>\n",
       "      <td>0.118712</td>\n",
       "      <td>0.108916</td>\n",
       "      <td>0.630873</td>\n",
       "    </tr>\n",
       "    <tr>\n",
       "      <td>26</td>\n",
       "      <td>0.795918</td>\n",
       "      <td>0.204082</td>\n",
       "      <td>0.121461</td>\n",
       "      <td>0.113273</td>\n",
       "      <td>0.630873</td>\n",
       "    </tr>\n",
       "    <tr>\n",
       "      <td>27</td>\n",
       "      <td>0.826531</td>\n",
       "      <td>0.173469</td>\n",
       "      <td>0.124209</td>\n",
       "      <td>0.117629</td>\n",
       "      <td>0.630873</td>\n",
       "    </tr>\n",
       "    <tr>\n",
       "      <td>28</td>\n",
       "      <td>0.857143</td>\n",
       "      <td>0.142857</td>\n",
       "      <td>0.126958</td>\n",
       "      <td>0.121986</td>\n",
       "      <td>0.630873</td>\n",
       "    </tr>\n",
       "    <tr>\n",
       "      <td>29</td>\n",
       "      <td>0.887755</td>\n",
       "      <td>0.112245</td>\n",
       "      <td>0.129706</td>\n",
       "      <td>0.126343</td>\n",
       "      <td>0.630873</td>\n",
       "    </tr>\n",
       "    <tr>\n",
       "      <td>30</td>\n",
       "      <td>0.918367</td>\n",
       "      <td>0.081633</td>\n",
       "      <td>0.132455</td>\n",
       "      <td>0.130699</td>\n",
       "      <td>0.630873</td>\n",
       "    </tr>\n",
       "    <tr>\n",
       "      <td>31</td>\n",
       "      <td>0.948980</td>\n",
       "      <td>0.051020</td>\n",
       "      <td>0.135203</td>\n",
       "      <td>0.135056</td>\n",
       "      <td>0.630873</td>\n",
       "    </tr>\n",
       "    <tr>\n",
       "      <td>32</td>\n",
       "      <td>0.979592</td>\n",
       "      <td>0.020408</td>\n",
       "      <td>0.137952</td>\n",
       "      <td>0.139413</td>\n",
       "      <td>0.630873</td>\n",
       "    </tr>\n",
       "    <tr>\n",
       "      <td>33</td>\n",
       "      <td>1.010204</td>\n",
       "      <td>-0.010204</td>\n",
       "      <td>0.140700</td>\n",
       "      <td>0.143769</td>\n",
       "      <td>0.630873</td>\n",
       "    </tr>\n",
       "    <tr>\n",
       "      <td>34</td>\n",
       "      <td>1.040816</td>\n",
       "      <td>-0.040816</td>\n",
       "      <td>0.143449</td>\n",
       "      <td>0.148126</td>\n",
       "      <td>0.630873</td>\n",
       "    </tr>\n",
       "    <tr>\n",
       "      <td>35</td>\n",
       "      <td>1.071429</td>\n",
       "      <td>-0.071429</td>\n",
       "      <td>0.146197</td>\n",
       "      <td>0.152483</td>\n",
       "      <td>0.630873</td>\n",
       "    </tr>\n",
       "    <tr>\n",
       "      <td>36</td>\n",
       "      <td>1.102041</td>\n",
       "      <td>-0.102041</td>\n",
       "      <td>0.148946</td>\n",
       "      <td>0.156839</td>\n",
       "      <td>0.630873</td>\n",
       "    </tr>\n",
       "    <tr>\n",
       "      <td>37</td>\n",
       "      <td>1.132653</td>\n",
       "      <td>-0.132653</td>\n",
       "      <td>0.151694</td>\n",
       "      <td>0.161196</td>\n",
       "      <td>0.630873</td>\n",
       "    </tr>\n",
       "    <tr>\n",
       "      <td>38</td>\n",
       "      <td>1.163265</td>\n",
       "      <td>-0.163265</td>\n",
       "      <td>0.154443</td>\n",
       "      <td>0.165553</td>\n",
       "      <td>0.630873</td>\n",
       "    </tr>\n",
       "    <tr>\n",
       "      <td>39</td>\n",
       "      <td>1.193878</td>\n",
       "      <td>-0.193878</td>\n",
       "      <td>0.157191</td>\n",
       "      <td>0.169909</td>\n",
       "      <td>0.630873</td>\n",
       "    </tr>\n",
       "    <tr>\n",
       "      <td>40</td>\n",
       "      <td>1.224490</td>\n",
       "      <td>-0.224490</td>\n",
       "      <td>0.159940</td>\n",
       "      <td>0.174266</td>\n",
       "      <td>0.630873</td>\n",
       "    </tr>\n",
       "    <tr>\n",
       "      <td>41</td>\n",
       "      <td>1.255102</td>\n",
       "      <td>-0.255102</td>\n",
       "      <td>0.162688</td>\n",
       "      <td>0.178622</td>\n",
       "      <td>0.630873</td>\n",
       "    </tr>\n",
       "    <tr>\n",
       "      <td>42</td>\n",
       "      <td>1.285714</td>\n",
       "      <td>-0.285714</td>\n",
       "      <td>0.165436</td>\n",
       "      <td>0.182979</td>\n",
       "      <td>0.630873</td>\n",
       "    </tr>\n",
       "    <tr>\n",
       "      <td>43</td>\n",
       "      <td>1.316327</td>\n",
       "      <td>-0.316327</td>\n",
       "      <td>0.168185</td>\n",
       "      <td>0.187336</td>\n",
       "      <td>0.630873</td>\n",
       "    </tr>\n",
       "    <tr>\n",
       "      <td>44</td>\n",
       "      <td>1.346939</td>\n",
       "      <td>-0.346939</td>\n",
       "      <td>0.170933</td>\n",
       "      <td>0.191692</td>\n",
       "      <td>0.630873</td>\n",
       "    </tr>\n",
       "    <tr>\n",
       "      <td>45</td>\n",
       "      <td>1.377551</td>\n",
       "      <td>-0.377551</td>\n",
       "      <td>0.173682</td>\n",
       "      <td>0.196049</td>\n",
       "      <td>0.630873</td>\n",
       "    </tr>\n",
       "    <tr>\n",
       "      <td>46</td>\n",
       "      <td>1.408163</td>\n",
       "      <td>-0.408163</td>\n",
       "      <td>0.176430</td>\n",
       "      <td>0.200406</td>\n",
       "      <td>0.630873</td>\n",
       "    </tr>\n",
       "    <tr>\n",
       "      <td>47</td>\n",
       "      <td>1.438776</td>\n",
       "      <td>-0.438776</td>\n",
       "      <td>0.179179</td>\n",
       "      <td>0.204762</td>\n",
       "      <td>0.630873</td>\n",
       "    </tr>\n",
       "    <tr>\n",
       "      <td>48</td>\n",
       "      <td>1.469388</td>\n",
       "      <td>-0.469388</td>\n",
       "      <td>0.181927</td>\n",
       "      <td>0.209119</td>\n",
       "      <td>0.630873</td>\n",
       "    </tr>\n",
       "    <tr>\n",
       "      <td>49</td>\n",
       "      <td>1.500000</td>\n",
       "      <td>-0.500000</td>\n",
       "      <td>0.184676</td>\n",
       "      <td>0.213476</td>\n",
       "      <td>0.630873</td>\n",
       "    </tr>\n",
       "  </tbody>\n",
       "</table>\n",
       "</div>"
      ],
      "text/plain": [
       "       w_EMV     w(rf)     Media       Vol        RS\n",
       "0   0.000000  1.000000  0.050000  0.000000       NaN\n",
       "1   0.030612  0.969388  0.052748  0.004357  0.630873\n",
       "2   0.061224  0.938776  0.055497  0.008713  0.630873\n",
       "3   0.091837  0.908163  0.058245  0.013070  0.630873\n",
       "4   0.122449  0.877551  0.060994  0.017427  0.630873\n",
       "5   0.153061  0.846939  0.063742  0.021783  0.630873\n",
       "6   0.183673  0.816327  0.066491  0.026140  0.630873\n",
       "7   0.214286  0.785714  0.069239  0.030497  0.630873\n",
       "8   0.244898  0.755102  0.071988  0.034853  0.630873\n",
       "9   0.275510  0.724490  0.074736  0.039210  0.630873\n",
       "10  0.306122  0.693878  0.077485  0.043566  0.630873\n",
       "11  0.336735  0.663265  0.080233  0.047923  0.630873\n",
       "12  0.367347  0.632653  0.082982  0.052280  0.630873\n",
       "13  0.397959  0.602041  0.085730  0.056636  0.630873\n",
       "14  0.428571  0.571429  0.088479  0.060993  0.630873\n",
       "15  0.459184  0.540816  0.091227  0.065350  0.630873\n",
       "16  0.489796  0.510204  0.093976  0.069706  0.630873\n",
       "17  0.520408  0.479592  0.096724  0.074063  0.630873\n",
       "18  0.551020  0.448980  0.099473  0.078420  0.630873\n",
       "19  0.581633  0.418367  0.102221  0.082776  0.630873\n",
       "20  0.612245  0.387755  0.104970  0.087133  0.630873\n",
       "21  0.642857  0.357143  0.107718  0.091490  0.630873\n",
       "22  0.673469  0.326531  0.110467  0.095846  0.630873\n",
       "23  0.704082  0.295918  0.113215  0.100203  0.630873\n",
       "24  0.734694  0.265306  0.115964  0.104559  0.630873\n",
       "25  0.765306  0.234694  0.118712  0.108916  0.630873\n",
       "26  0.795918  0.204082  0.121461  0.113273  0.630873\n",
       "27  0.826531  0.173469  0.124209  0.117629  0.630873\n",
       "28  0.857143  0.142857  0.126958  0.121986  0.630873\n",
       "29  0.887755  0.112245  0.129706  0.126343  0.630873\n",
       "30  0.918367  0.081633  0.132455  0.130699  0.630873\n",
       "31  0.948980  0.051020  0.135203  0.135056  0.630873\n",
       "32  0.979592  0.020408  0.137952  0.139413  0.630873\n",
       "33  1.010204 -0.010204  0.140700  0.143769  0.630873\n",
       "34  1.040816 -0.040816  0.143449  0.148126  0.630873\n",
       "35  1.071429 -0.071429  0.146197  0.152483  0.630873\n",
       "36  1.102041 -0.102041  0.148946  0.156839  0.630873\n",
       "37  1.132653 -0.132653  0.151694  0.161196  0.630873\n",
       "38  1.163265 -0.163265  0.154443  0.165553  0.630873\n",
       "39  1.193878 -0.193878  0.157191  0.169909  0.630873\n",
       "40  1.224490 -0.224490  0.159940  0.174266  0.630873\n",
       "41  1.255102 -0.255102  0.162688  0.178622  0.630873\n",
       "42  1.285714 -0.285714  0.165436  0.182979  0.630873\n",
       "43  1.316327 -0.316327  0.168185  0.187336  0.630873\n",
       "44  1.346939 -0.346939  0.170933  0.191692  0.630873\n",
       "45  1.377551 -0.377551  0.173682  0.196049  0.630873\n",
       "46  1.408163 -0.408163  0.176430  0.200406  0.630873\n",
       "47  1.438776 -0.438776  0.179179  0.204762  0.630873\n",
       "48  1.469388 -0.469388  0.181927  0.209119  0.630873\n",
       "49  1.500000 -0.500000  0.184676  0.213476  0.630873"
      ]
     },
     "execution_count": 35,
     "metadata": {},
     "output_type": "execute_result"
    }
   ],
   "source": [
    "# DataFrame de CAL: \n",
    "# 1. Índice: i\n",
    "# 2. Columnas 1-2: wp, wrf\n",
    "# 3. Columnas 3-4: E[r], sigma\n",
    "# 4. Columna 5: Sharpe ratio\n",
    "LAC = pd.DataFrame({'w_EMV': wp,\n",
    "                   'w(rf)': 1-wp,\n",
    "                   'Media': wp*E_EMV + (1-wp)*rf,\n",
    "                   'Vol': wp*s_EMV})\n",
    "LAC['RS'] = (LAC['Media']-rf)/LAC['Vol']\n",
    "LAC"
   ]
  },
  {
   "cell_type": "code",
   "execution_count": 42,
   "metadata": {},
   "outputs": [
    {
     "data": {
      "text/plain": [
       "[0.13, 0.16, 0.13, 0.15]"
      ]
     },
     "execution_count": 42,
     "metadata": {},
     "output_type": "execute_result"
    },
    {
     "data": {
      "image/png": "[encoded data removed]",
      "text/plain": [
       "<Figure size 864x576 with 2 Axes>"
      ]
     },
     "metadata": {
      "needs_background": "light"
     },
     "output_type": "display_data"
    }
   ],
   "source": [
    "# Gráfica de dispersión de puntos coloreando \n",
    "# de acuerdo a SR, portafolio EMV y LAC\n",
    "plt.figure(figsize = (12,8))\n",
    "plt.scatter(portafolios['Volatilidad'],portafolios['Media'], c=portafolios['RS'], cmap='inferno')\n",
    "plt.plot(s1,E1,'bo', ms=10, label='EU')\n",
    "plt.plot(s2,E2,'ro', ms=10, label='Japón')\n",
    "plt.plot(LAC['Vol'],LAC['Media'], '--k', lw= 2, label = 'LAC')\n",
    "plt.plot(s_EMV, E_EMV, 'g*', ms=10, label='Port.EMV')\n",
    "plt.xlabel('Volatilidad $\\sigma$')\n",
    "plt.ylabel('Rendimiento esperado $E[r]$')\n",
    "plt.grid()\n",
    "plt.legend(loc='best')\n",
    "plt.colorbar()\n",
    "plt.axis([.13,.16,.13,.15])"
   ]
  },
  {
   "cell_type": "markdown",
   "metadata": {},
   "source": [
    "#### 4. Combinación óptima de acuerdo a preferencias\n",
    "\n",
    "Con los datos anteriores, y la caracterización de aversión al riesgo, se escoge la combinación óptima entre el portafolio EMV y el activo libre de riesgo de acuerdo a:\n",
    "\n",
    "$$w^\\ast=\\frac{E[r_s-r_f]}{\\gamma\\sigma_s^2}.$$"
   ]
  },
  {
   "cell_type": "code",
   "execution_count": 37,
   "metadata": {},
   "outputs": [
    {
     "data": {
      "text/plain": [
       "0.6332665142475"
      ]
     },
     "execution_count": 37,
     "metadata": {},
     "output_type": "execute_result"
    }
   ],
   "source": [
    "# Para gamma=7\n",
    "g = 7\n",
    "wcap = (E_EMV-rf)/(g*s_EMV**2)\n",
    "wcap"
   ]
  },
  {
   "cell_type": "code",
   "execution_count": 39,
   "metadata": {},
   "outputs": [
    {
     "data": {
      "text/plain": [
       "(0.44221882010153346, 0.1910476941459666, 0.3667334857525)"
      ]
     },
     "execution_count": 39,
     "metadata": {},
     "output_type": "execute_result"
    }
   ],
   "source": [
    "wcap*w_EMV, wcap*(1-w_EMV), 1-wcap"
   ]
  },
  {
   "cell_type": "markdown",
   "metadata": {},
   "source": [
    "<script>\n",
    "  $(document).ready(function(){\n",
    "    $('div.prompt').hide();\n",
    "    $('div.back-to-top').hide();\n",
    "    $('nav#menubar').hide();\n",
    "    $('.breadcrumb').hide();\n",
    "    $('.hidden-print').hide();\n",
    "  });\n",
    "</script>\n",
    "\n",
    "<footer id=\"attribution\" style=\"float:right; color:#808080; background:#fff;\">\n",
    "Created with Jupyter by Esteban Jiménez Rodríguez.\n",
    "</footer>"
   ]
  }
 ],
 "metadata": {
  "kernelspec": {
   "display_name": "Python 3",
   "language": "python",
   "name": "python3"
  },
  "language_info": {
   "codemirror_mode": {
    "name": "ipython",
    "version": 3
   },
   "file_extension": ".py",
   "mimetype": "text/x-python",
   "name": "python",
   "nbconvert_exporter": "python",
   "pygments_lexer": "ipython3",
   "version": "3.7.4"
  }
 },
 "nbformat": 4,
 "nbformat_minor": 2
}
